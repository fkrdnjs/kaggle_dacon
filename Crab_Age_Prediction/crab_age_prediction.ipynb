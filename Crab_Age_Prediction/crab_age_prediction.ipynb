{
  "nbformat": 4,
  "nbformat_minor": 0,
  "metadata": {
    "colab": {
      "provenance": [],
      "collapsed_sections": [
        "GY_dX_o_graT",
        "-w23Wg5wHegm",
        "wtmgWqPJZ9vF",
        "nyU5D7cSFBbN"
      ]
    },
    "kernelspec": {
      "name": "python3",
      "display_name": "Python 3"
    },
    "language_info": {
      "name": "python"
    }
  },
  "cells": [
    {
      "cell_type": "code",
      "execution_count": null,
      "metadata": {
        "id": "SUWGx6PEYWRZ"
      },
      "outputs": [],
      "source": [
        "import pandas as pd\n",
        "import numpy as np\n",
        "import matplotlib.pyplot as plt\n",
        "import optuna\n",
        "import lightgbm as lgb\n",
        "from sklearn.model_selection import train_test_split\n",
        "from sklearn.model_selection import KFold\n",
        "from sklearn.metrics import mean_absolute_error\n",
        "from sklearn.preprocessing import LabelEncoder\n",
        "import seaborn as sns"
      ]
    },
    {
      "cell_type": "code",
      "source": [
        "!pip install optuna"
      ],
      "metadata": {
        "id": "jxrF83b5Ej-Z",
        "colab": {
          "base_uri": "https://localhost:8080/"
        },
        "outputId": "028e53ee-b653-4c76-f6aa-09b22184c6a5"
      },
      "execution_count": null,
      "outputs": [
        {
          "output_type": "stream",
          "name": "stdout",
          "text": [
            "Looking in indexes: https://pypi.org/simple, https://us-python.pkg.dev/colab-wheels/public/simple/\n",
            "Collecting optuna\n",
            "  Downloading optuna-3.2.0-py3-none-any.whl (390 kB)\n",
            "\u001b[2K     \u001b[90m━━━━━━━━━━━━━━━━━━━━━━━━━━━━━━━━━━━━━━\u001b[0m \u001b[32m390.6/390.6 kB\u001b[0m \u001b[31m22.9 MB/s\u001b[0m eta \u001b[36m0:00:00\u001b[0m\n",
            "\u001b[?25hCollecting alembic>=1.5.0 (from optuna)\n",
            "  Downloading alembic-1.11.1-py3-none-any.whl (224 kB)\n",
            "\u001b[2K     \u001b[90m━━━━━━━━━━━━━━━━━━━━━━━━━━━━━━━━━━━━━━\u001b[0m \u001b[32m224.5/224.5 kB\u001b[0m \u001b[31m14.1 MB/s\u001b[0m eta \u001b[36m0:00:00\u001b[0m\n",
            "\u001b[?25hCollecting cmaes>=0.9.1 (from optuna)\n",
            "  Downloading cmaes-0.9.1-py3-none-any.whl (21 kB)\n",
            "Collecting colorlog (from optuna)\n",
            "  Downloading colorlog-6.7.0-py2.py3-none-any.whl (11 kB)\n",
            "Requirement already satisfied: numpy in /usr/local/lib/python3.10/dist-packages (from optuna) (1.22.4)\n",
            "Requirement already satisfied: packaging>=20.0 in /usr/local/lib/python3.10/dist-packages (from optuna) (23.1)\n",
            "Requirement already satisfied: sqlalchemy>=1.3.0 in /usr/local/lib/python3.10/dist-packages (from optuna) (2.0.10)\n",
            "Requirement already satisfied: tqdm in /usr/local/lib/python3.10/dist-packages (from optuna) (4.65.0)\n",
            "Requirement already satisfied: PyYAML in /usr/local/lib/python3.10/dist-packages (from optuna) (6.0)\n",
            "Collecting Mako (from alembic>=1.5.0->optuna)\n",
            "  Downloading Mako-1.2.4-py3-none-any.whl (78 kB)\n",
            "\u001b[2K     \u001b[90m━━━━━━━━━━━━━━━━━━━━━━━━━━━━━━━━━━━━━━━━\u001b[0m \u001b[32m78.7/78.7 kB\u001b[0m \u001b[31m7.2 MB/s\u001b[0m eta \u001b[36m0:00:00\u001b[0m\n",
            "\u001b[?25hRequirement already satisfied: typing-extensions>=4 in /usr/local/lib/python3.10/dist-packages (from alembic>=1.5.0->optuna) (4.5.0)\n",
            "Requirement already satisfied: greenlet!=0.4.17 in /usr/local/lib/python3.10/dist-packages (from sqlalchemy>=1.3.0->optuna) (2.0.2)\n",
            "Requirement already satisfied: MarkupSafe>=0.9.2 in /usr/local/lib/python3.10/dist-packages (from Mako->alembic>=1.5.0->optuna) (2.1.2)\n",
            "Installing collected packages: Mako, colorlog, cmaes, alembic, optuna\n",
            "Successfully installed Mako-1.2.4 alembic-1.11.1 cmaes-0.9.1 colorlog-6.7.0 optuna-3.2.0\n"
          ]
        }
      ]
    },
    {
      "cell_type": "markdown",
      "source": [
        "# 데이터셋 받아오기\n",
        "- 훈련 데이터, 테스트 데이터, submission 받아오기"
      ],
      "metadata": {
        "id": "YAttGUYzD1me"
      }
    },
    {
      "cell_type": "code",
      "source": [
        "train_df = pd.read_csv('/content/drive/MyDrive/Colab Notebooks/data/crab_age/train.csv')\n",
        "test_df = pd.read_csv('/content/drive/MyDrive/Colab Notebooks/data/crab_age/test.csv')\n",
        "submission = pd.read_csv('/content/drive/MyDrive/Colab Notebooks/data/crab_age/sample_submission.csv')"
      ],
      "metadata": {
        "id": "AUDCaQE4ZiIK"
      },
      "execution_count": null,
      "outputs": []
    },
    {
      "cell_type": "markdown",
      "source": [
        "# 훈련 데이터 및 테스트 데이터 개요 파악"
      ],
      "metadata": {
        "id": "qfFUpoF1Z1-3"
      }
    },
    {
      "cell_type": "markdown",
      "source": [
        "## 훈련 데이터"
      ],
      "metadata": {
        "id": "rkw0I2JpZ8cA"
      }
    },
    {
      "cell_type": "code",
      "source": [
        "train_df.head()"
      ],
      "metadata": {
        "id": "7wbaLAvdcqpg",
        "colab": {
          "base_uri": "https://localhost:8080/",
          "height": 206
        },
        "outputId": "848a20bb-4028-494f-b4ef-2b2d55e38995"
      },
      "execution_count": null,
      "outputs": [
        {
          "output_type": "execute_result",
          "data": {
            "text/plain": [
              "   id Sex  Length  Diameter  Height     Weight  Shucked Weight  \\\n",
              "0   0   I  1.5250    1.1750  0.3750  28.973189       12.728926   \n",
              "1   1   I  1.1000    0.8250  0.2750  10.418441        4.521745   \n",
              "2   2   M  1.3875    1.1125  0.3750  24.777463       11.339800   \n",
              "3   3   F  1.7000    1.4125  0.5000  50.660556       20.354941   \n",
              "4   4   I  1.2500    1.0125  0.3375  23.289114       11.977664   \n",
              "\n",
              "   Viscera Weight  Shell Weight  Age  \n",
              "0        6.647958      8.348928    9  \n",
              "1        2.324659      3.401940    8  \n",
              "2        5.556502      6.662133    9  \n",
              "3       10.991839     14.996885   11  \n",
              "4        4.507570      5.953395    8  "
            ],
            "text/html": [
              "\n",
              "  <div id=\"df-6b2ad09a-e956-4c7e-89f0-3b18a819fa9b\">\n",
              "    <div class=\"colab-df-container\">\n",
              "      <div>\n",
              "<style scoped>\n",
              "    .dataframe tbody tr th:only-of-type {\n",
              "        vertical-align: middle;\n",
              "    }\n",
              "\n",
              "    .dataframe tbody tr th {\n",
              "        vertical-align: top;\n",
              "    }\n",
              "\n",
              "    .dataframe thead th {\n",
              "        text-align: right;\n",
              "    }\n",
              "</style>\n",
              "<table border=\"1\" class=\"dataframe\">\n",
              "  <thead>\n",
              "    <tr style=\"text-align: right;\">\n",
              "      <th></th>\n",
              "      <th>id</th>\n",
              "      <th>Sex</th>\n",
              "      <th>Length</th>\n",
              "      <th>Diameter</th>\n",
              "      <th>Height</th>\n",
              "      <th>Weight</th>\n",
              "      <th>Shucked Weight</th>\n",
              "      <th>Viscera Weight</th>\n",
              "      <th>Shell Weight</th>\n",
              "      <th>Age</th>\n",
              "    </tr>\n",
              "  </thead>\n",
              "  <tbody>\n",
              "    <tr>\n",
              "      <th>0</th>\n",
              "      <td>0</td>\n",
              "      <td>I</td>\n",
              "      <td>1.5250</td>\n",
              "      <td>1.1750</td>\n",
              "      <td>0.3750</td>\n",
              "      <td>28.973189</td>\n",
              "      <td>12.728926</td>\n",
              "      <td>6.647958</td>\n",
              "      <td>8.348928</td>\n",
              "      <td>9</td>\n",
              "    </tr>\n",
              "    <tr>\n",
              "      <th>1</th>\n",
              "      <td>1</td>\n",
              "      <td>I</td>\n",
              "      <td>1.1000</td>\n",
              "      <td>0.8250</td>\n",
              "      <td>0.2750</td>\n",
              "      <td>10.418441</td>\n",
              "      <td>4.521745</td>\n",
              "      <td>2.324659</td>\n",
              "      <td>3.401940</td>\n",
              "      <td>8</td>\n",
              "    </tr>\n",
              "    <tr>\n",
              "      <th>2</th>\n",
              "      <td>2</td>\n",
              "      <td>M</td>\n",
              "      <td>1.3875</td>\n",
              "      <td>1.1125</td>\n",
              "      <td>0.3750</td>\n",
              "      <td>24.777463</td>\n",
              "      <td>11.339800</td>\n",
              "      <td>5.556502</td>\n",
              "      <td>6.662133</td>\n",
              "      <td>9</td>\n",
              "    </tr>\n",
              "    <tr>\n",
              "      <th>3</th>\n",
              "      <td>3</td>\n",
              "      <td>F</td>\n",
              "      <td>1.7000</td>\n",
              "      <td>1.4125</td>\n",
              "      <td>0.5000</td>\n",
              "      <td>50.660556</td>\n",
              "      <td>20.354941</td>\n",
              "      <td>10.991839</td>\n",
              "      <td>14.996885</td>\n",
              "      <td>11</td>\n",
              "    </tr>\n",
              "    <tr>\n",
              "      <th>4</th>\n",
              "      <td>4</td>\n",
              "      <td>I</td>\n",
              "      <td>1.2500</td>\n",
              "      <td>1.0125</td>\n",
              "      <td>0.3375</td>\n",
              "      <td>23.289114</td>\n",
              "      <td>11.977664</td>\n",
              "      <td>4.507570</td>\n",
              "      <td>5.953395</td>\n",
              "      <td>8</td>\n",
              "    </tr>\n",
              "  </tbody>\n",
              "</table>\n",
              "</div>\n",
              "      <button class=\"colab-df-convert\" onclick=\"convertToInteractive('df-6b2ad09a-e956-4c7e-89f0-3b18a819fa9b')\"\n",
              "              title=\"Convert this dataframe to an interactive table.\"\n",
              "              style=\"display:none;\">\n",
              "        \n",
              "  <svg xmlns=\"http://www.w3.org/2000/svg\" height=\"24px\"viewBox=\"0 0 24 24\"\n",
              "       width=\"24px\">\n",
              "    <path d=\"M0 0h24v24H0V0z\" fill=\"none\"/>\n",
              "    <path d=\"M18.56 5.44l.94 2.06.94-2.06 2.06-.94-2.06-.94-.94-2.06-.94 2.06-2.06.94zm-11 1L8.5 8.5l.94-2.06 2.06-.94-2.06-.94L8.5 2.5l-.94 2.06-2.06.94zm10 10l.94 2.06.94-2.06 2.06-.94-2.06-.94-.94-2.06-.94 2.06-2.06.94z\"/><path d=\"M17.41 7.96l-1.37-1.37c-.4-.4-.92-.59-1.43-.59-.52 0-1.04.2-1.43.59L10.3 9.45l-7.72 7.72c-.78.78-.78 2.05 0 2.83L4 21.41c.39.39.9.59 1.41.59.51 0 1.02-.2 1.41-.59l7.78-7.78 2.81-2.81c.8-.78.8-2.07 0-2.86zM5.41 20L4 18.59l7.72-7.72 1.47 1.35L5.41 20z\"/>\n",
              "  </svg>\n",
              "      </button>\n",
              "      \n",
              "  <style>\n",
              "    .colab-df-container {\n",
              "      display:flex;\n",
              "      flex-wrap:wrap;\n",
              "      gap: 12px;\n",
              "    }\n",
              "\n",
              "    .colab-df-convert {\n",
              "      background-color: #E8F0FE;\n",
              "      border: none;\n",
              "      border-radius: 50%;\n",
              "      cursor: pointer;\n",
              "      display: none;\n",
              "      fill: #1967D2;\n",
              "      height: 32px;\n",
              "      padding: 0 0 0 0;\n",
              "      width: 32px;\n",
              "    }\n",
              "\n",
              "    .colab-df-convert:hover {\n",
              "      background-color: #E2EBFA;\n",
              "      box-shadow: 0px 1px 2px rgba(60, 64, 67, 0.3), 0px 1px 3px 1px rgba(60, 64, 67, 0.15);\n",
              "      fill: #174EA6;\n",
              "    }\n",
              "\n",
              "    [theme=dark] .colab-df-convert {\n",
              "      background-color: #3B4455;\n",
              "      fill: #D2E3FC;\n",
              "    }\n",
              "\n",
              "    [theme=dark] .colab-df-convert:hover {\n",
              "      background-color: #434B5C;\n",
              "      box-shadow: 0px 1px 3px 1px rgba(0, 0, 0, 0.15);\n",
              "      filter: drop-shadow(0px 1px 2px rgba(0, 0, 0, 0.3));\n",
              "      fill: #FFFFFF;\n",
              "    }\n",
              "  </style>\n",
              "\n",
              "      <script>\n",
              "        const buttonEl =\n",
              "          document.querySelector('#df-6b2ad09a-e956-4c7e-89f0-3b18a819fa9b button.colab-df-convert');\n",
              "        buttonEl.style.display =\n",
              "          google.colab.kernel.accessAllowed ? 'block' : 'none';\n",
              "\n",
              "        async function convertToInteractive(key) {\n",
              "          const element = document.querySelector('#df-6b2ad09a-e956-4c7e-89f0-3b18a819fa9b');\n",
              "          const dataTable =\n",
              "            await google.colab.kernel.invokeFunction('convertToInteractive',\n",
              "                                                     [key], {});\n",
              "          if (!dataTable) return;\n",
              "\n",
              "          const docLinkHtml = 'Like what you see? Visit the ' +\n",
              "            '<a target=\"_blank\" href=https://colab.research.google.com/notebooks/data_table.ipynb>data table notebook</a>'\n",
              "            + ' to learn more about interactive tables.';\n",
              "          element.innerHTML = '';\n",
              "          dataTable['output_type'] = 'display_data';\n",
              "          await google.colab.output.renderOutput(dataTable, element);\n",
              "          const docLink = document.createElement('div');\n",
              "          docLink.innerHTML = docLinkHtml;\n",
              "          element.appendChild(docLink);\n",
              "        }\n",
              "      </script>\n",
              "    </div>\n",
              "  </div>\n",
              "  "
            ]
          },
          "metadata": {},
          "execution_count": 6
        }
      ]
    },
    {
      "cell_type": "markdown",
      "source": [
        "### 총 10개의 column\n",
        "- id: 구분\n",
        "- Sex : 성별(M, F, I)\n",
        "- Length : 길이(Feet, 1 foot = 30.48 cm)\n",
        "- Diameter: 직경(Feet)\n",
        "- Height: 높이(Feet)\n",
        "- Weight: 무게(ounces, 1 oz = 28.35 g = 0.0625 lb)\n",
        "- Shucked Weight: 껍데기 없는 무게(ounces)\n",
        "- Viscera Weight: 내장 무게, 복부 장기를 몸의 깊은 곳까지 감싸는 무게(ounces)\n",
        "- Shell Weight: 껍데기 무게(ounces)\n",
        "- Age: 나이(months)"
      ],
      "metadata": {
        "id": "G9NHi8xLaKA4"
      }
    },
    {
      "cell_type": "code",
      "source": [
        "train_df.columns"
      ],
      "metadata": {
        "id": "WNdcZJXIZz2d",
        "colab": {
          "base_uri": "https://localhost:8080/"
        },
        "outputId": "d015a27b-c4bc-43c5-997b-faf2e9b3ac83"
      },
      "execution_count": null,
      "outputs": [
        {
          "output_type": "execute_result",
          "data": {
            "text/plain": [
              "Index(['id', 'Sex', 'Length', 'Diameter', 'Height', 'Weight', 'Shucked Weight',\n",
              "       'Viscera Weight', 'Shell Weight', 'Age'],\n",
              "      dtype='object')"
            ]
          },
          "metadata": {},
          "execution_count": 7
        }
      ]
    },
    {
      "cell_type": "markdown",
      "source": [
        "### 결측치 확인\n",
        "- 결측치가 없음"
      ],
      "metadata": {
        "id": "GY_dX_o_graT"
      }
    },
    {
      "cell_type": "code",
      "source": [
        "train_df.isnull().sum()"
      ],
      "metadata": {
        "id": "yz4mZIvKgquB",
        "colab": {
          "base_uri": "https://localhost:8080/"
        },
        "outputId": "40c09384-cf3c-4464-f28e-899a8a0ea41e"
      },
      "execution_count": null,
      "outputs": [
        {
          "output_type": "execute_result",
          "data": {
            "text/plain": [
              "id                0\n",
              "Sex               0\n",
              "Length            0\n",
              "Diameter          0\n",
              "Height            0\n",
              "Weight            0\n",
              "Shucked Weight    0\n",
              "Viscera Weight    0\n",
              "Shell Weight      0\n",
              "Age               0\n",
              "dtype: int64"
            ]
          },
          "metadata": {},
          "execution_count": 8
        }
      ]
    },
    {
      "cell_type": "markdown",
      "source": [
        "### 목적 변수: 데이터 분포 확인"
      ],
      "metadata": {
        "id": "-w23Wg5wHegm"
      }
    },
    {
      "cell_type": "code",
      "source": [
        "train_df['Age'].describe()"
      ],
      "metadata": {
        "id": "U7xEFuuuHuEL",
        "colab": {
          "base_uri": "https://localhost:8080/"
        },
        "outputId": "78b2e93e-db47-490b-a462-0132cccd4add"
      },
      "execution_count": null,
      "outputs": [
        {
          "output_type": "execute_result",
          "data": {
            "text/plain": [
              "count    74051.000000\n",
              "mean         9.967806\n",
              "std          3.175189\n",
              "min          1.000000\n",
              "25%          8.000000\n",
              "50%         10.000000\n",
              "75%         11.000000\n",
              "max         29.000000\n",
              "Name: Age, dtype: float64"
            ]
          },
          "metadata": {},
          "execution_count": 9
        }
      ]
    },
    {
      "cell_type": "code",
      "source": [
        "train_df['Age'].plot.hist(bins=25)"
      ],
      "metadata": {
        "id": "0uD2uYLoH6pA",
        "colab": {
          "base_uri": "https://localhost:8080/",
          "height": 448
        },
        "outputId": "59b166d1-929e-4cad-de01-cf86290a5d6b"
      },
      "execution_count": null,
      "outputs": [
        {
          "output_type": "execute_result",
          "data": {
            "text/plain": [
              "<Axes: ylabel='Frequency'>"
            ]
          },
          "metadata": {},
          "execution_count": 10
        },
        {
          "output_type": "display_data",
          "data": {
            "text/plain": [
              "<Figure size 640x480 with 1 Axes>"
            ],
            "image/png": "[encoded data removed]"
          },
          "metadata": {}
        }
      ]
    },
    {
      "cell_type": "code",
      "source": [
        "train_df.head()"
      ],
      "metadata": {
        "colab": {
          "base_uri": "https://localhost:8080/",
          "height": 206
        },
        "id": "PtbXeeBYDZbh",
        "outputId": "1eb0e265-8505-4442-86ed-87a5f65364a8"
      },
      "execution_count": null,
      "outputs": [
        {
          "output_type": "execute_result",
          "data": {
            "text/plain": [
              "   id Sex  Length  Diameter  Height     Weight  Shucked Weight  \\\n",
              "0   0   I  1.5250    1.1750  0.3750  28.973189       12.728926   \n",
              "1   1   I  1.1000    0.8250  0.2750  10.418441        4.521745   \n",
              "2   2   M  1.3875    1.1125  0.3750  24.777463       11.339800   \n",
              "3   3   F  1.7000    1.4125  0.5000  50.660556       20.354941   \n",
              "4   4   I  1.2500    1.0125  0.3375  23.289114       11.977664   \n",
              "\n",
              "   Viscera Weight  Shell Weight  Age  \n",
              "0        6.647958      8.348928    9  \n",
              "1        2.324659      3.401940    8  \n",
              "2        5.556502      6.662133    9  \n",
              "3       10.991839     14.996885   11  \n",
              "4        4.507570      5.953395    8  "
            ],
            "text/html": [
              "\n",
              "  <div id=\"df-ed253010-7f3d-4c92-aca9-bad83553e93c\">\n",
              "    <div class=\"colab-df-container\">\n",
              "      <div>\n",
              "<style scoped>\n",
              "    .dataframe tbody tr th:only-of-type {\n",
              "        vertical-align: middle;\n",
              "    }\n",
              "\n",
              "    .dataframe tbody tr th {\n",
              "        vertical-align: top;\n",
              "    }\n",
              "\n",
              "    .dataframe thead th {\n",
              "        text-align: right;\n",
              "    }\n",
              "</style>\n",
              "<table border=\"1\" class=\"dataframe\">\n",
              "  <thead>\n",
              "    <tr style=\"text-align: right;\">\n",
              "      <th></th>\n",
              "      <th>id</th>\n",
              "      <th>Sex</th>\n",
              "      <th>Length</th>\n",
              "      <th>Diameter</th>\n",
              "      <th>Height</th>\n",
              "      <th>Weight</th>\n",
              "      <th>Shucked Weight</th>\n",
              "      <th>Viscera Weight</th>\n",
              "      <th>Shell Weight</th>\n",
              "      <th>Age</th>\n",
              "    </tr>\n",
              "  </thead>\n",
              "  <tbody>\n",
              "    <tr>\n",
              "      <th>0</th>\n",
              "      <td>0</td>\n",
              "      <td>I</td>\n",
              "      <td>1.5250</td>\n",
              "      <td>1.1750</td>\n",
              "      <td>0.3750</td>\n",
              "      <td>28.973189</td>\n",
              "      <td>12.728926</td>\n",
              "      <td>6.647958</td>\n",
              "      <td>8.348928</td>\n",
              "      <td>9</td>\n",
              "    </tr>\n",
              "    <tr>\n",
              "      <th>1</th>\n",
              "      <td>1</td>\n",
              "      <td>I</td>\n",
              "      <td>1.1000</td>\n",
              "      <td>0.8250</td>\n",
              "      <td>0.2750</td>\n",
              "      <td>10.418441</td>\n",
              "      <td>4.521745</td>\n",
              "      <td>2.324659</td>\n",
              "      <td>3.401940</td>\n",
              "      <td>8</td>\n",
              "    </tr>\n",
              "    <tr>\n",
              "      <th>2</th>\n",
              "      <td>2</td>\n",
              "      <td>M</td>\n",
              "      <td>1.3875</td>\n",
              "      <td>1.1125</td>\n",
              "      <td>0.3750</td>\n",
              "      <td>24.777463</td>\n",
              "      <td>11.339800</td>\n",
              "      <td>5.556502</td>\n",
              "      <td>6.662133</td>\n",
              "      <td>9</td>\n",
              "    </tr>\n",
              "    <tr>\n",
              "      <th>3</th>\n",
              "      <td>3</td>\n",
              "      <td>F</td>\n",
              "      <td>1.7000</td>\n",
              "      <td>1.4125</td>\n",
              "      <td>0.5000</td>\n",
              "      <td>50.660556</td>\n",
              "      <td>20.354941</td>\n",
              "      <td>10.991839</td>\n",
              "      <td>14.996885</td>\n",
              "      <td>11</td>\n",
              "    </tr>\n",
              "    <tr>\n",
              "      <th>4</th>\n",
              "      <td>4</td>\n",
              "      <td>I</td>\n",
              "      <td>1.2500</td>\n",
              "      <td>1.0125</td>\n",
              "      <td>0.3375</td>\n",
              "      <td>23.289114</td>\n",
              "      <td>11.977664</td>\n",
              "      <td>4.507570</td>\n",
              "      <td>5.953395</td>\n",
              "      <td>8</td>\n",
              "    </tr>\n",
              "  </tbody>\n",
              "</table>\n",
              "</div>\n",
              "      <button class=\"colab-df-convert\" onclick=\"convertToInteractive('df-ed253010-7f3d-4c92-aca9-bad83553e93c')\"\n",
              "              title=\"Convert this dataframe to an interactive table.\"\n",
              "              style=\"display:none;\">\n",
              "        \n",
              "  <svg xmlns=\"http://www.w3.org/2000/svg\" height=\"24px\"viewBox=\"0 0 24 24\"\n",
              "       width=\"24px\">\n",
              "    <path d=\"M0 0h24v24H0V0z\" fill=\"none\"/>\n",
              "    <path d=\"M18.56 5.44l.94 2.06.94-2.06 2.06-.94-2.06-.94-.94-2.06-.94 2.06-2.06.94zm-11 1L8.5 8.5l.94-2.06 2.06-.94-2.06-.94L8.5 2.5l-.94 2.06-2.06.94zm10 10l.94 2.06.94-2.06 2.06-.94-2.06-.94-.94-2.06-.94 2.06-2.06.94z\"/><path d=\"M17.41 7.96l-1.37-1.37c-.4-.4-.92-.59-1.43-.59-.52 0-1.04.2-1.43.59L10.3 9.45l-7.72 7.72c-.78.78-.78 2.05 0 2.83L4 21.41c.39.39.9.59 1.41.59.51 0 1.02-.2 1.41-.59l7.78-7.78 2.81-2.81c.8-.78.8-2.07 0-2.86zM5.41 20L4 18.59l7.72-7.72 1.47 1.35L5.41 20z\"/>\n",
              "  </svg>\n",
              "      </button>\n",
              "      \n",
              "  <style>\n",
              "    .colab-df-container {\n",
              "      display:flex;\n",
              "      flex-wrap:wrap;\n",
              "      gap: 12px;\n",
              "    }\n",
              "\n",
              "    .colab-df-convert {\n",
              "      background-color: #E8F0FE;\n",
              "      border: none;\n",
              "      border-radius: 50%;\n",
              "      cursor: pointer;\n",
              "      display: none;\n",
              "      fill: #1967D2;\n",
              "      height: 32px;\n",
              "      padding: 0 0 0 0;\n",
              "      width: 32px;\n",
              "    }\n",
              "\n",
              "    .colab-df-convert:hover {\n",
              "      background-color: #E2EBFA;\n",
              "      box-shadow: 0px 1px 2px rgba(60, 64, 67, 0.3), 0px 1px 3px 1px rgba(60, 64, 67, 0.15);\n",
              "      fill: #174EA6;\n",
              "    }\n",
              "\n",
              "    [theme=dark] .colab-df-convert {\n",
              "      background-color: #3B4455;\n",
              "      fill: #D2E3FC;\n",
              "    }\n",
              "\n",
              "    [theme=dark] .colab-df-convert:hover {\n",
              "      background-color: #434B5C;\n",
              "      box-shadow: 0px 1px 3px 1px rgba(0, 0, 0, 0.15);\n",
              "      filter: drop-shadow(0px 1px 2px rgba(0, 0, 0, 0.3));\n",
              "      fill: #FFFFFF;\n",
              "    }\n",
              "  </style>\n",
              "\n",
              "      <script>\n",
              "        const buttonEl =\n",
              "          document.querySelector('#df-ed253010-7f3d-4c92-aca9-bad83553e93c button.colab-df-convert');\n",
              "        buttonEl.style.display =\n",
              "          google.colab.kernel.accessAllowed ? 'block' : 'none';\n",
              "\n",
              "        async function convertToInteractive(key) {\n",
              "          const element = document.querySelector('#df-ed253010-7f3d-4c92-aca9-bad83553e93c');\n",
              "          const dataTable =\n",
              "            await google.colab.kernel.invokeFunction('convertToInteractive',\n",
              "                                                     [key], {});\n",
              "          if (!dataTable) return;\n",
              "\n",
              "          const docLinkHtml = 'Like what you see? Visit the ' +\n",
              "            '<a target=\"_blank\" href=https://colab.research.google.com/notebooks/data_table.ipynb>data table notebook</a>'\n",
              "            + ' to learn more about interactive tables.';\n",
              "          element.innerHTML = '';\n",
              "          dataTable['output_type'] = 'display_data';\n",
              "          await google.colab.output.renderOutput(dataTable, element);\n",
              "          const docLink = document.createElement('div');\n",
              "          docLink.innerHTML = docLinkHtml;\n",
              "          element.appendChild(docLink);\n",
              "        }\n",
              "      </script>\n",
              "    </div>\n",
              "  </div>\n",
              "  "
            ]
          },
          "metadata": {},
          "execution_count": 12
        }
      ]
    },
    {
      "cell_type": "code",
      "source": [
        "train_df.info()"
      ],
      "metadata": {
        "colab": {
          "base_uri": "https://localhost:8080/"
        },
        "id": "sVTZSGhcG4Am",
        "outputId": "dab174c9-6209-4e13-c1d9-0530486bdb46"
      },
      "execution_count": null,
      "outputs": [
        {
          "output_type": "stream",
          "name": "stdout",
          "text": [
            "<class 'pandas.core.frame.DataFrame'>\n",
            "RangeIndex: 74051 entries, 0 to 74050\n",
            "Data columns (total 10 columns):\n",
            " #   Column          Non-Null Count  Dtype  \n",
            "---  ------          --------------  -----  \n",
            " 0   id              74051 non-null  int64  \n",
            " 1   Sex             74051 non-null  object \n",
            " 2   Length          74051 non-null  float64\n",
            " 3   Diameter        74051 non-null  float64\n",
            " 4   Height          74051 non-null  float64\n",
            " 5   Weight          74051 non-null  float64\n",
            " 6   Shucked Weight  74051 non-null  float64\n",
            " 7   Viscera Weight  74051 non-null  float64\n",
            " 8   Shell Weight    74051 non-null  float64\n",
            " 9   Age             74051 non-null  int64  \n",
            "dtypes: float64(7), int64(2), object(1)\n",
            "memory usage: 5.6+ MB\n"
          ]
        }
      ]
    },
    {
      "cell_type": "markdown",
      "source": [
        "### 설명 변수: 데이터 분포 확인"
      ],
      "metadata": {
        "id": "NiYR5ZcxU11A"
      }
    },
    {
      "cell_type": "code",
      "source": [
        "figure = plt.figure(figsize=(16, 18))\n",
        "col_arr = train_df.drop(['id', 'Age'], axis=1).columns\n",
        "\n",
        "count = 0\n",
        "for i in range(len(col_arr)):\n",
        "    feat_name = col_arr[i]\n",
        "    plt.subplot(5, 2, count+1)\n",
        "    plt.hist(train_df[feat_name], bins=100)\n",
        "    plt.title(f'{feat_name}')\n",
        "    count += 1\n",
        "figure.tight_layout(h_pad=1.0, w_pad=0.8)\n",
        "plt.show()"
      ],
      "metadata": {
        "colab": {
          "base_uri": "https://localhost:8080/",
          "height": 781
        },
        "id": "z2zq8yymHOo9",
        "outputId": "373563f1-32ed-48fc-ed53-f916275d2f0f"
      },
      "execution_count": null,
      "outputs": [
        {
          "output_type": "display_data",
          "data": {
            "text/plain": [
              "<Figure size 1600x1800 with 8 Axes>"
            ],
            "image/png": "[encoded data removed]"
          },
          "metadata": {}
        }
      ]
    },
    {
      "cell_type": "code",
      "source": [
        "plt.boxplot(train_df[['Length', 'Diameter', 'Height']])\n",
        "plt.xticks([1, 2, 3], ['Length', 'Diameter', 'Height'])"
      ],
      "metadata": {
        "colab": {
          "base_uri": "https://localhost:8080/",
          "height": 503
        },
        "id": "ryOnYLVXEwY6",
        "outputId": "fa2349a3-6b11-4352-d18a-dabe04fc9f5f"
      },
      "execution_count": null,
      "outputs": [
        {
          "output_type": "execute_result",
          "data": {
            "text/plain": [
              "([<matplotlib.axis.XTick at 0x7ff7d17e1690>,\n",
              "  <matplotlib.axis.XTick at 0x7ff7d17e1660>,\n",
              "  <matplotlib.axis.XTick at 0x7ff7d1852290>],\n",
              " [Text(1, 0, 'Length'), Text(2, 0, 'Diameter'), Text(3, 0, 'Height')])"
            ]
          },
          "metadata": {},
          "execution_count": 242
        },
        {
          "output_type": "display_data",
          "data": {
            "text/plain": [
              "<Figure size 640x480 with 1 Axes>"
            ],
            "image/png": "[encoded data removed]"
          },
          "metadata": {}
        }
      ]
    },
    {
      "cell_type": "code",
      "source": [
        "plt.boxplot(x = train_df[['Weight', 'Shucked Weight', 'Viscera Weight', 'Shell Weight']])\n",
        "plt.xticks([1, 2, 3, 4], ['Weight', 'Shucked Weight', 'Viscera Weight', 'Shell Weight'])"
      ],
      "metadata": {
        "colab": {
          "base_uri": "https://localhost:8080/",
          "height": 577
        },
        "id": "-PlPXmItTo2-",
        "outputId": "cf7b6c55-df71-499b-e280-bd550f44b12b"
      },
      "execution_count": null,
      "outputs": [
        {
          "output_type": "execute_result",
          "data": {
            "text/plain": [
              "([<matplotlib.axis.XTick at 0x7ff7d190b580>,\n",
              "  <matplotlib.axis.XTick at 0x7ff7d190b640>,\n",
              "  <matplotlib.axis.XTick at 0x7ff7d1915900>,\n",
              "  <matplotlib.axis.XTick at 0x7ff7d19094e0>],\n",
              " [Text(1, 0, 'Weight'),\n",
              "  Text(2, 0, 'Shucked Weight'),\n",
              "  Text(3, 0, 'Viscera Weight'),\n",
              "  Text(4, 0, 'Shell Weight')])"
            ]
          },
          "metadata": {},
          "execution_count": 241
        },
        {
          "output_type": "display_data",
          "data": {
            "text/plain": [
              "<Figure size 640x480 with 1 Axes>"
            ],
            "image/png": "[encoded data removed]"
          },
          "metadata": {}
        }
      ]
    },
    {
      "cell_type": "code",
      "source": [
        "train_df['Height'].sort_values(ascending=False).head(50)"
      ],
      "metadata": {
        "colab": {
          "base_uri": "https://localhost:8080/"
        },
        "id": "XdlX2p_UsMR1",
        "outputId": "0a5d1e79-9c80-42cb-de9d-b3f7d91a75f1"
      },
      "execution_count": null,
      "outputs": [
        {
          "output_type": "execute_result",
          "data": {
            "text/plain": [
              "56040    0.8125\n",
              "48826    0.7750\n",
              "73664    0.7625\n",
              "31547    0.6625\n",
              "8001     0.6250\n",
              "18229    0.6250\n",
              "47639    0.6250\n",
              "36366    0.6250\n",
              "9738     0.6250\n",
              "10356    0.6250\n",
              "6096     0.6250\n",
              "22016    0.6250\n",
              "55550    0.6250\n",
              "55990    0.6250\n",
              "27762    0.6250\n",
              "55843    0.6250\n",
              "29268    0.6250\n",
              "9137     0.6125\n",
              "43306    0.6000\n",
              "52834    0.6000\n",
              "22860    0.6000\n",
              "65514    0.6000\n",
              "24572    0.6000\n",
              "69815    0.6000\n",
              "44465    0.6000\n",
              "71746    0.6000\n",
              "44054    0.6000\n",
              "60454    0.6000\n",
              "33824    0.6000\n",
              "51262    0.6000\n",
              "27692    0.5875\n",
              "65276    0.5875\n",
              "29393    0.5875\n",
              "27590    0.5875\n",
              "71695    0.5875\n",
              "69554    0.5875\n",
              "25374    0.5875\n",
              "57533    0.5875\n",
              "45784    0.5875\n",
              "50005    0.5875\n",
              "8346     0.5875\n",
              "63080    0.5875\n",
              "72768    0.5875\n",
              "15630    0.5875\n",
              "33839    0.5875\n",
              "48108    0.5875\n",
              "18493    0.5875\n",
              "22697    0.5875\n",
              "66936    0.5875\n",
              "17087    0.5750\n",
              "Name: Height, dtype: float64"
            ]
          },
          "metadata": {},
          "execution_count": 233
        }
      ]
    },
    {
      "cell_type": "markdown",
      "source": [
        "- 데이터 분포 확인"
      ],
      "metadata": {
        "id": "LeptaiEFGt4p"
      }
    },
    {
      "cell_type": "code",
      "source": [
        "sns.heatmap(train_df.drop(['id'], axis=1).corr(), annot=True, cmap='coolwarm')"
      ],
      "metadata": {
        "colab": {
          "base_uri": "https://localhost:8080/",
          "height": 551
        },
        "id": "Z6lmsaFaUaiu",
        "outputId": "90ff8048-d88a-47ff-d8bb-0d56d30e9354"
      },
      "execution_count": null,
      "outputs": [
        {
          "output_type": "execute_result",
          "data": {
            "text/plain": [
              "<Axes: >"
            ]
          },
          "metadata": {},
          "execution_count": 230
        },
        {
          "output_type": "display_data",
          "data": {
            "text/plain": [
              "<Figure size 640x480 with 2 Axes>"
            ],
            "image/png": "[encoded data removed]"
          },
          "metadata": {}
        }
      ]
    },
    {
      "cell_type": "markdown",
      "source": [
        "### 이상치 제거"
      ],
      "metadata": {
        "id": "icQxPNIhrNP3"
      }
    },
    {
      "cell_type": "code",
      "source": [
        "train_df = train_df.drop(train_df[train_df['Height'] > 1.0].index)\n",
        "train_df = train_df.drop(train_df[train_df['Weight'] > 75].index)\n",
        "train_df = train_df.drop(train_df[train_df['Shucked Weight'] > 40].index)\n",
        "train_df = train_df.drop(train_df[train_df['Viscera Weight'] > 17].index)\n",
        "train_df = train_df.drop(train_df[train_df['Shell Weight'] > 26].index)"
      ],
      "metadata": {
        "id": "L1sUmipirMn-"
      },
      "execution_count": null,
      "outputs": []
    },
    {
      "cell_type": "markdown",
      "source": [
        "## 테스트 데이터"
      ],
      "metadata": {
        "id": "wtmgWqPJZ9vF"
      }
    },
    {
      "cell_type": "code",
      "source": [
        "test_df.info()"
      ],
      "metadata": {
        "id": "rr8RxfwxZ1Bk",
        "colab": {
          "base_uri": "https://localhost:8080/"
        },
        "outputId": "dc896c5f-5397-4eda-927c-b46d298263aa"
      },
      "execution_count": null,
      "outputs": [
        {
          "output_type": "stream",
          "name": "stdout",
          "text": [
            "<class 'pandas.core.frame.DataFrame'>\n",
            "RangeIndex: 49368 entries, 0 to 49367\n",
            "Data columns (total 9 columns):\n",
            " #   Column          Non-Null Count  Dtype  \n",
            "---  ------          --------------  -----  \n",
            " 0   id              49368 non-null  int64  \n",
            " 1   Sex             49368 non-null  object \n",
            " 2   Length          49368 non-null  float64\n",
            " 3   Diameter        49368 non-null  float64\n",
            " 4   Height          49368 non-null  float64\n",
            " 5   Weight          49368 non-null  float64\n",
            " 6   Shucked Weight  49368 non-null  float64\n",
            " 7   Viscera Weight  49368 non-null  float64\n",
            " 8   Shell Weight    49368 non-null  float64\n",
            "dtypes: float64(7), int64(1), object(1)\n",
            "memory usage: 3.4+ MB\n"
          ]
        }
      ]
    },
    {
      "cell_type": "markdown",
      "source": [
        "### 결측치 확인\n",
        "- 결측치 없음"
      ],
      "metadata": {
        "id": "nyU5D7cSFBbN"
      }
    },
    {
      "cell_type": "code",
      "source": [
        "test_df.isnull().sum()"
      ],
      "metadata": {
        "id": "EQAB0-7OE7-W",
        "colab": {
          "base_uri": "https://localhost:8080/"
        },
        "outputId": "7c8dbee8-3272-4347-ffb0-f2f1889886b6"
      },
      "execution_count": null,
      "outputs": [
        {
          "output_type": "execute_result",
          "data": {
            "text/plain": [
              "id                0\n",
              "Sex               0\n",
              "Length            0\n",
              "Diameter          0\n",
              "Height            0\n",
              "Weight            0\n",
              "Shucked Weight    0\n",
              "Viscera Weight    0\n",
              "Shell Weight      0\n",
              "dtype: int64"
            ]
          },
          "metadata": {},
          "execution_count": 19
        }
      ]
    },
    {
      "cell_type": "markdown",
      "source": [
        "# LightGBM을 활용한 모델\n",
        "- optuna를 활용한 하이퍼파라미터 최적화\n",
        "- kfold를 활용한 교차검증\n",
        "- score: 1.38033"
      ],
      "metadata": {
        "id": "quMBOmQNF3Nn"
      }
    },
    {
      "cell_type": "markdown",
      "source": [
        "## Sex 인코딩\n",
        "- F = 0\n",
        "- I = 1\n",
        "- M = 2"
      ],
      "metadata": {
        "id": "VnTgujTkON1Y"
      }
    },
    {
      "cell_type": "code",
      "source": [
        "# 훈련 데이터와 테스트 데이터를 all_df로 결합\n",
        "all_df = pd.concat([train_df, test_df], ignore_index=True)\n",
        "all_df.head()"
      ],
      "metadata": {
        "colab": {
          "base_uri": "https://localhost:8080/",
          "height": 206
        },
        "id": "4oGYue31O9_R",
        "outputId": "5cdab4b0-0182-47e8-8344-3ec7f38fa538"
      },
      "execution_count": null,
      "outputs": [
        {
          "output_type": "execute_result",
          "data": {
            "text/plain": [
              "   id Sex  Length  Diameter  Height     Weight  Shucked Weight  \\\n",
              "0   0   I  1.5250    1.1750  0.3750  28.973189       12.728926   \n",
              "1   1   I  1.1000    0.8250  0.2750  10.418441        4.521745   \n",
              "2   2   M  1.3875    1.1125  0.3750  24.777463       11.339800   \n",
              "3   3   F  1.7000    1.4125  0.5000  50.660556       20.354941   \n",
              "4   4   I  1.2500    1.0125  0.3375  23.289114       11.977664   \n",
              "\n",
              "   Viscera Weight  Shell Weight   Age  \n",
              "0        6.647958      8.348928   9.0  \n",
              "1        2.324659      3.401940   8.0  \n",
              "2        5.556502      6.662133   9.0  \n",
              "3       10.991839     14.996885  11.0  \n",
              "4        4.507570      5.953395   8.0  "
            ],
            "text/html": [
              "\n",
              "  <div id=\"df-79e5eb29-9943-48c6-be00-04132b915222\">\n",
              "    <div class=\"colab-df-container\">\n",
              "      <div>\n",
              "<style scoped>\n",
              "    .dataframe tbody tr th:only-of-type {\n",
              "        vertical-align: middle;\n",
              "    }\n",
              "\n",
              "    .dataframe tbody tr th {\n",
              "        vertical-align: top;\n",
              "    }\n",
              "\n",
              "    .dataframe thead th {\n",
              "        text-align: right;\n",
              "    }\n",
              "</style>\n",
              "<table border=\"1\" class=\"dataframe\">\n",
              "  <thead>\n",
              "    <tr style=\"text-align: right;\">\n",
              "      <th></th>\n",
              "      <th>id</th>\n",
              "      <th>Sex</th>\n",
              "      <th>Length</th>\n",
              "      <th>Diameter</th>\n",
              "      <th>Height</th>\n",
              "      <th>Weight</th>\n",
              "      <th>Shucked Weight</th>\n",
              "      <th>Viscera Weight</th>\n",
              "      <th>Shell Weight</th>\n",
              "      <th>Age</th>\n",
              "    </tr>\n",
              "  </thead>\n",
              "  <tbody>\n",
              "    <tr>\n",
              "      <th>0</th>\n",
              "      <td>0</td>\n",
              "      <td>I</td>\n",
              "      <td>1.5250</td>\n",
              "      <td>1.1750</td>\n",
              "      <td>0.3750</td>\n",
              "      <td>28.973189</td>\n",
              "      <td>12.728926</td>\n",
              "      <td>6.647958</td>\n",
              "      <td>8.348928</td>\n",
              "      <td>9.0</td>\n",
              "    </tr>\n",
              "    <tr>\n",
              "      <th>1</th>\n",
              "      <td>1</td>\n",
              "      <td>I</td>\n",
              "      <td>1.1000</td>\n",
              "      <td>0.8250</td>\n",
              "      <td>0.2750</td>\n",
              "      <td>10.418441</td>\n",
              "      <td>4.521745</td>\n",
              "      <td>2.324659</td>\n",
              "      <td>3.401940</td>\n",
              "      <td>8.0</td>\n",
              "    </tr>\n",
              "    <tr>\n",
              "      <th>2</th>\n",
              "      <td>2</td>\n",
              "      <td>M</td>\n",
              "      <td>1.3875</td>\n",
              "      <td>1.1125</td>\n",
              "      <td>0.3750</td>\n",
              "      <td>24.777463</td>\n",
              "      <td>11.339800</td>\n",
              "      <td>5.556502</td>\n",
              "      <td>6.662133</td>\n",
              "      <td>9.0</td>\n",
              "    </tr>\n",
              "    <tr>\n",
              "      <th>3</th>\n",
              "      <td>3</td>\n",
              "      <td>F</td>\n",
              "      <td>1.7000</td>\n",
              "      <td>1.4125</td>\n",
              "      <td>0.5000</td>\n",
              "      <td>50.660556</td>\n",
              "      <td>20.354941</td>\n",
              "      <td>10.991839</td>\n",
              "      <td>14.996885</td>\n",
              "      <td>11.0</td>\n",
              "    </tr>\n",
              "    <tr>\n",
              "      <th>4</th>\n",
              "      <td>4</td>\n",
              "      <td>I</td>\n",
              "      <td>1.2500</td>\n",
              "      <td>1.0125</td>\n",
              "      <td>0.3375</td>\n",
              "      <td>23.289114</td>\n",
              "      <td>11.977664</td>\n",
              "      <td>4.507570</td>\n",
              "      <td>5.953395</td>\n",
              "      <td>8.0</td>\n",
              "    </tr>\n",
              "  </tbody>\n",
              "</table>\n",
              "</div>\n",
              "      <button class=\"colab-df-convert\" onclick=\"convertToInteractive('df-79e5eb29-9943-48c6-be00-04132b915222')\"\n",
              "              title=\"Convert this dataframe to an interactive table.\"\n",
              "              style=\"display:none;\">\n",
              "        \n",
              "  <svg xmlns=\"http://www.w3.org/2000/svg\" height=\"24px\"viewBox=\"0 0 24 24\"\n",
              "       width=\"24px\">\n",
              "    <path d=\"M0 0h24v24H0V0z\" fill=\"none\"/>\n",
              "    <path d=\"M18.56 5.44l.94 2.06.94-2.06 2.06-.94-2.06-.94-.94-2.06-.94 2.06-2.06.94zm-11 1L8.5 8.5l.94-2.06 2.06-.94-2.06-.94L8.5 2.5l-.94 2.06-2.06.94zm10 10l.94 2.06.94-2.06 2.06-.94-2.06-.94-.94-2.06-.94 2.06-2.06.94z\"/><path d=\"M17.41 7.96l-1.37-1.37c-.4-.4-.92-.59-1.43-.59-.52 0-1.04.2-1.43.59L10.3 9.45l-7.72 7.72c-.78.78-.78 2.05 0 2.83L4 21.41c.39.39.9.59 1.41.59.51 0 1.02-.2 1.41-.59l7.78-7.78 2.81-2.81c.8-.78.8-2.07 0-2.86zM5.41 20L4 18.59l7.72-7.72 1.47 1.35L5.41 20z\"/>\n",
              "  </svg>\n",
              "      </button>\n",
              "      \n",
              "  <style>\n",
              "    .colab-df-container {\n",
              "      display:flex;\n",
              "      flex-wrap:wrap;\n",
              "      gap: 12px;\n",
              "    }\n",
              "\n",
              "    .colab-df-convert {\n",
              "      background-color: #E8F0FE;\n",
              "      border: none;\n",
              "      border-radius: 50%;\n",
              "      cursor: pointer;\n",
              "      display: none;\n",
              "      fill: #1967D2;\n",
              "      height: 32px;\n",
              "      padding: 0 0 0 0;\n",
              "      width: 32px;\n",
              "    }\n",
              "\n",
              "    .colab-df-convert:hover {\n",
              "      background-color: #E2EBFA;\n",
              "      box-shadow: 0px 1px 2px rgba(60, 64, 67, 0.3), 0px 1px 3px 1px rgba(60, 64, 67, 0.15);\n",
              "      fill: #174EA6;\n",
              "    }\n",
              "\n",
              "    [theme=dark] .colab-df-convert {\n",
              "      background-color: #3B4455;\n",
              "      fill: #D2E3FC;\n",
              "    }\n",
              "\n",
              "    [theme=dark] .colab-df-convert:hover {\n",
              "      background-color: #434B5C;\n",
              "      box-shadow: 0px 1px 3px 1px rgba(0, 0, 0, 0.15);\n",
              "      filter: drop-shadow(0px 1px 2px rgba(0, 0, 0, 0.3));\n",
              "      fill: #FFFFFF;\n",
              "    }\n",
              "  </style>\n",
              "\n",
              "      <script>\n",
              "        const buttonEl =\n",
              "          document.querySelector('#df-79e5eb29-9943-48c6-be00-04132b915222 button.colab-df-convert');\n",
              "        buttonEl.style.display =\n",
              "          google.colab.kernel.accessAllowed ? 'block' : 'none';\n",
              "\n",
              "        async function convertToInteractive(key) {\n",
              "          const element = document.querySelector('#df-79e5eb29-9943-48c6-be00-04132b915222');\n",
              "          const dataTable =\n",
              "            await google.colab.kernel.invokeFunction('convertToInteractive',\n",
              "                                                     [key], {});\n",
              "          if (!dataTable) return;\n",
              "\n",
              "          const docLinkHtml = 'Like what you see? Visit the ' +\n",
              "            '<a target=\"_blank\" href=https://colab.research.google.com/notebooks/data_table.ipynb>data table notebook</a>'\n",
              "            + ' to learn more about interactive tables.';\n",
              "          element.innerHTML = '';\n",
              "          dataTable['output_type'] = 'display_data';\n",
              "          await google.colab.output.renderOutput(dataTable, element);\n",
              "          const docLink = document.createElement('div');\n",
              "          docLink.innerHTML = docLinkHtml;\n",
              "          element.appendChild(docLink);\n",
              "        }\n",
              "      </script>\n",
              "    </div>\n",
              "  </div>\n",
              "  "
            ]
          },
          "metadata": {},
          "execution_count": 234
        }
      ]
    },
    {
      "cell_type": "code",
      "source": [
        "all_df = pd.get_dummies(all_df, columns=['Sex'])"
      ],
      "metadata": {
        "id": "hQ5B0gfLKATj"
      },
      "execution_count": null,
      "outputs": []
    },
    {
      "cell_type": "code",
      "source": [
        "all_df.head()"
      ],
      "metadata": {
        "colab": {
          "base_uri": "https://localhost:8080/",
          "height": 268
        },
        "id": "ZgAm8gv0KAvK",
        "outputId": "eca4372c-5fce-4434-f29d-24110aef63b2"
      },
      "execution_count": null,
      "outputs": [
        {
          "output_type": "execute_result",
          "data": {
            "text/plain": [
              "   id  Length  Diameter  Height     Weight  Shucked Weight  Viscera Weight  \\\n",
              "0   0  1.5250    1.1750  0.3750  28.973189       12.728926        6.647958   \n",
              "1   1  1.1000    0.8250  0.2750  10.418441        4.521745        2.324659   \n",
              "2   2  1.3875    1.1125  0.3750  24.777463       11.339800        5.556502   \n",
              "3   3  1.7000    1.4125  0.5000  50.660556       20.354941       10.991839   \n",
              "4   4  1.2500    1.0125  0.3375  23.289114       11.977664        4.507570   \n",
              "\n",
              "   Shell Weight   Age  Sex_F  Sex_I  Sex_M  \n",
              "0      8.348928   9.0      0      1      0  \n",
              "1      3.401940   8.0      0      1      0  \n",
              "2      6.662133   9.0      0      0      1  \n",
              "3     14.996885  11.0      1      0      0  \n",
              "4      5.953395   8.0      0      1      0  "
            ],
            "text/html": [
              "\n",
              "  <div id=\"df-68051e2f-057f-4c41-8174-aece34c85cfb\">\n",
              "    <div class=\"colab-df-container\">\n",
              "      <div>\n",
              "<style scoped>\n",
              "    .dataframe tbody tr th:only-of-type {\n",
              "        vertical-align: middle;\n",
              "    }\n",
              "\n",
              "    .dataframe tbody tr th {\n",
              "        vertical-align: top;\n",
              "    }\n",
              "\n",
              "    .dataframe thead th {\n",
              "        text-align: right;\n",
              "    }\n",
              "</style>\n",
              "<table border=\"1\" class=\"dataframe\">\n",
              "  <thead>\n",
              "    <tr style=\"text-align: right;\">\n",
              "      <th></th>\n",
              "      <th>id</th>\n",
              "      <th>Length</th>\n",
              "      <th>Diameter</th>\n",
              "      <th>Height</th>\n",
              "      <th>Weight</th>\n",
              "      <th>Shucked Weight</th>\n",
              "      <th>Viscera Weight</th>\n",
              "      <th>Shell Weight</th>\n",
              "      <th>Age</th>\n",
              "      <th>Sex_F</th>\n",
              "      <th>Sex_I</th>\n",
              "      <th>Sex_M</th>\n",
              "    </tr>\n",
              "  </thead>\n",
              "  <tbody>\n",
              "    <tr>\n",
              "      <th>0</th>\n",
              "      <td>0</td>\n",
              "      <td>1.5250</td>\n",
              "      <td>1.1750</td>\n",
              "      <td>0.3750</td>\n",
              "      <td>28.973189</td>\n",
              "      <td>12.728926</td>\n",
              "      <td>6.647958</td>\n",
              "      <td>8.348928</td>\n",
              "      <td>9.0</td>\n",
              "      <td>0</td>\n",
              "      <td>1</td>\n",
              "      <td>0</td>\n",
              "    </tr>\n",
              "    <tr>\n",
              "      <th>1</th>\n",
              "      <td>1</td>\n",
              "      <td>1.1000</td>\n",
              "      <td>0.8250</td>\n",
              "      <td>0.2750</td>\n",
              "      <td>10.418441</td>\n",
              "      <td>4.521745</td>\n",
              "      <td>2.324659</td>\n",
              "      <td>3.401940</td>\n",
              "      <td>8.0</td>\n",
              "      <td>0</td>\n",
              "      <td>1</td>\n",
              "      <td>0</td>\n",
              "    </tr>\n",
              "    <tr>\n",
              "      <th>2</th>\n",
              "      <td>2</td>\n",
              "      <td>1.3875</td>\n",
              "      <td>1.1125</td>\n",
              "      <td>0.3750</td>\n",
              "      <td>24.777463</td>\n",
              "      <td>11.339800</td>\n",
              "      <td>5.556502</td>\n",
              "      <td>6.662133</td>\n",
              "      <td>9.0</td>\n",
              "      <td>0</td>\n",
              "      <td>0</td>\n",
              "      <td>1</td>\n",
              "    </tr>\n",
              "    <tr>\n",
              "      <th>3</th>\n",
              "      <td>3</td>\n",
              "      <td>1.7000</td>\n",
              "      <td>1.4125</td>\n",
              "      <td>0.5000</td>\n",
              "      <td>50.660556</td>\n",
              "      <td>20.354941</td>\n",
              "      <td>10.991839</td>\n",
              "      <td>14.996885</td>\n",
              "      <td>11.0</td>\n",
              "      <td>1</td>\n",
              "      <td>0</td>\n",
              "      <td>0</td>\n",
              "    </tr>\n",
              "    <tr>\n",
              "      <th>4</th>\n",
              "      <td>4</td>\n",
              "      <td>1.2500</td>\n",
              "      <td>1.0125</td>\n",
              "      <td>0.3375</td>\n",
              "      <td>23.289114</td>\n",
              "      <td>11.977664</td>\n",
              "      <td>4.507570</td>\n",
              "      <td>5.953395</td>\n",
              "      <td>8.0</td>\n",
              "      <td>0</td>\n",
              "      <td>1</td>\n",
              "      <td>0</td>\n",
              "    </tr>\n",
              "  </tbody>\n",
              "</table>\n",
              "</div>\n",
              "      <button class=\"colab-df-convert\" onclick=\"convertToInteractive('df-68051e2f-057f-4c41-8174-aece34c85cfb')\"\n",
              "              title=\"Convert this dataframe to an interactive table.\"\n",
              "              style=\"display:none;\">\n",
              "        \n",
              "  <svg xmlns=\"http://www.w3.org/2000/svg\" height=\"24px\"viewBox=\"0 0 24 24\"\n",
              "       width=\"24px\">\n",
              "    <path d=\"M0 0h24v24H0V0z\" fill=\"none\"/>\n",
              "    <path d=\"M18.56 5.44l.94 2.06.94-2.06 2.06-.94-2.06-.94-.94-2.06-.94 2.06-2.06.94zm-11 1L8.5 8.5l.94-2.06 2.06-.94-2.06-.94L8.5 2.5l-.94 2.06-2.06.94zm10 10l.94 2.06.94-2.06 2.06-.94-2.06-.94-.94-2.06-.94 2.06-2.06.94z\"/><path d=\"M17.41 7.96l-1.37-1.37c-.4-.4-.92-.59-1.43-.59-.52 0-1.04.2-1.43.59L10.3 9.45l-7.72 7.72c-.78.78-.78 2.05 0 2.83L4 21.41c.39.39.9.59 1.41.59.51 0 1.02-.2 1.41-.59l7.78-7.78 2.81-2.81c.8-.78.8-2.07 0-2.86zM5.41 20L4 18.59l7.72-7.72 1.47 1.35L5.41 20z\"/>\n",
              "  </svg>\n",
              "      </button>\n",
              "      \n",
              "  <style>\n",
              "    .colab-df-container {\n",
              "      display:flex;\n",
              "      flex-wrap:wrap;\n",
              "      gap: 12px;\n",
              "    }\n",
              "\n",
              "    .colab-df-convert {\n",
              "      background-color: #E8F0FE;\n",
              "      border: none;\n",
              "      border-radius: 50%;\n",
              "      cursor: pointer;\n",
              "      display: none;\n",
              "      fill: #1967D2;\n",
              "      height: 32px;\n",
              "      padding: 0 0 0 0;\n",
              "      width: 32px;\n",
              "    }\n",
              "\n",
              "    .colab-df-convert:hover {\n",
              "      background-color: #E2EBFA;\n",
              "      box-shadow: 0px 1px 2px rgba(60, 64, 67, 0.3), 0px 1px 3px 1px rgba(60, 64, 67, 0.15);\n",
              "      fill: #174EA6;\n",
              "    }\n",
              "\n",
              "    [theme=dark] .colab-df-convert {\n",
              "      background-color: #3B4455;\n",
              "      fill: #D2E3FC;\n",
              "    }\n",
              "\n",
              "    [theme=dark] .colab-df-convert:hover {\n",
              "      background-color: #434B5C;\n",
              "      box-shadow: 0px 1px 3px 1px rgba(0, 0, 0, 0.15);\n",
              "      filter: drop-shadow(0px 1px 2px rgba(0, 0, 0, 0.3));\n",
              "      fill: #FFFFFF;\n",
              "    }\n",
              "  </style>\n",
              "\n",
              "      <script>\n",
              "        const buttonEl =\n",
              "          document.querySelector('#df-68051e2f-057f-4c41-8174-aece34c85cfb button.colab-df-convert');\n",
              "        buttonEl.style.display =\n",
              "          google.colab.kernel.accessAllowed ? 'block' : 'none';\n",
              "\n",
              "        async function convertToInteractive(key) {\n",
              "          const element = document.querySelector('#df-68051e2f-057f-4c41-8174-aece34c85cfb');\n",
              "          const dataTable =\n",
              "            await google.colab.kernel.invokeFunction('convertToInteractive',\n",
              "                                                     [key], {});\n",
              "          if (!dataTable) return;\n",
              "\n",
              "          const docLinkHtml = 'Like what you see? Visit the ' +\n",
              "            '<a target=\"_blank\" href=https://colab.research.google.com/notebooks/data_table.ipynb>data table notebook</a>'\n",
              "            + ' to learn more about interactive tables.';\n",
              "          element.innerHTML = '';\n",
              "          dataTable['output_type'] = 'display_data';\n",
              "          await google.colab.output.renderOutput(dataTable, element);\n",
              "          const docLink = document.createElement('div');\n",
              "          docLink.innerHTML = docLinkHtml;\n",
              "          element.appendChild(docLink);\n",
              "        }\n",
              "      </script>\n",
              "    </div>\n",
              "  </div>\n",
              "  "
            ]
          },
          "metadata": {},
          "execution_count": 203
        }
      ]
    },
    {
      "cell_type": "markdown",
      "source": [
        "## 훈련 데이터 및 테스트 데이터 분리"
      ],
      "metadata": {
        "id": "Jnn-NT0-U5I4"
      }
    },
    {
      "cell_type": "code",
      "source": [
        "train_df_le = all_df[~all_df['Age'].isnull()]\n",
        "test_df_le = all_df[all_df['Age'].isnull()]\n",
        "\n",
        "#train_df_le['Age'] = np.log(train_df_le['Age'])"
      ],
      "metadata": {
        "id": "2uSTYt7QQkgg"
      },
      "execution_count": null,
      "outputs": []
    },
    {
      "cell_type": "markdown",
      "source": [
        "## 훈련 데이터 제곱근 취하기\n",
        "- 이거 했더니 2.4 나옴 ;;"
      ],
      "metadata": {
        "id": "Z7gkrhniCdy7"
      }
    },
    {
      "cell_type": "code",
      "source": [
        "#tmp = train_df_le.drop(['Sex'], axis=1)\n",
        "#tmp = np.sqrt(tmp)\n",
        "#tmp['Sex'] = train_df_le['Sex']\n",
        "#train_df_le = tmp"
      ],
      "metadata": {
        "id": "UG21Oj7AIR4z"
      },
      "execution_count": null,
      "outputs": []
    },
    {
      "cell_type": "code",
      "source": [
        "#sns.heatmap(data = train_df_le.drop(['id'], axis=1).corr(), cmap='Blues', annot=True)"
      ],
      "metadata": {
        "id": "xnk58BkwJj_A"
      },
      "execution_count": null,
      "outputs": []
    },
    {
      "cell_type": "markdown",
      "source": [
        "## 훈련 데이터 및 검증 데이터 분리"
      ],
      "metadata": {
        "id": "Bcr5_cNGClaf"
      }
    },
    {
      "cell_type": "code",
      "source": [
        "train_X = train_df_le.drop([\"Age\", \"id\"], axis = 1)\n",
        "train_Y = train_df_le[\"Age\"]"
      ],
      "metadata": {
        "id": "4_7SFZFkOjpK"
      },
      "execution_count": null,
      "outputs": []
    },
    {
      "cell_type": "markdown",
      "source": [
        "## 하이퍼파라미터 최적화 및 모델 학습"
      ],
      "metadata": {
        "id": "YJ-grmOlN-I4"
      }
    },
    {
      "cell_type": "code",
      "source": [
        "def objective(trial):\n",
        "    params = {\n",
        "        # 조정하고자 하는 모델의 하이퍼파라미터 및 탐색 범위 설정\n",
        "        \"objective\":\"regression\",\n",
        "        \"random_seed\":1234,\n",
        "        \"learning_rate\":0.05,\n",
        "        \"n_extimators\":300,\n",
        "        \"num_leaves\":trial.suggest_int(\"num_leaves\", 4, 64),\n",
        "        \"max_bin\":trial.suggest_int(\"max_bin\", 50, 200),\n",
        "        \"bagging_fraction\":trial.suggest_uniform(\"bagging_fraction\", 0.4, 0.9),\n",
        "        \"bagging_freq\":trial.suggest_int(\"bagging_freq\", 1, 10),\n",
        "        \"feature_fraction\":trial.suggest_uniform(\"feature_fraction\", 0.4, 0.9),\n",
        "        \"min_data_in_leaf\":trial.suggest_int(\"min_data_in_leaf\", 2, 16),\n",
        "        \"min_sum_hessian_in_leaf\":trial.suggest_int(\"min_sum_hessian_in_leaf\", 1, 10)\n",
        "    }\n",
        "\n",
        "    lgb_train = lgb.Dataset(X_train, y_train)\n",
        "    lgb_eval = lgb.Dataset(X_valid, y_valid, reference=lgb_train)\n",
        "\n",
        "    model_lgb = lgb.train(params,\n",
        "                          lgb_train,\n",
        "                          valid_sets=lgb_eval,\n",
        "                          num_boost_round=100,\n",
        "                          early_stopping_rounds=20,\n",
        "                          verbose_eval=10)\n",
        "\n",
        "    y_pred = model_lgb.predict(X_valid, num_iteration=model_lgb.best_iteration)\n",
        "    score = np.sqrt(mean_absolute_error(y_valid, y_pred))\n",
        "    return score\n",
        "X_train, X_valid, y_train, y_valid = train_test_split(train_X, train_Y, test_size=0.2, random_state=1234)\n",
        "study = optuna.create_study(sampler=optuna.samplers.RandomSampler(seed=0))\n",
        "study.optimize(objective, n_trials=20)\n",
        "study.best_params"
      ],
      "metadata": {
        "colab": {
          "base_uri": "https://localhost:8080/"
        },
        "id": "fr5yhWG-Lbc6",
        "outputId": "c510bcc6-3077-48f4-b457-ff909a68ee8d"
      },
      "execution_count": null,
      "outputs": [
        {
          "output_type": "stream",
          "name": "stderr",
          "text": [
            "[I 2023-06-06 03:24:01,219] A new study created in memory with name: no-name-5273a9e9-7f72-46c9-b34e-01257fa57d9c\n"
          ]
        },
        {
          "output_type": "stream",
          "name": "stdout",
          "text": [
            "[LightGBM] [Warning] Unknown parameter: n_extimators\n",
            "[LightGBM] [Warning] Found whitespace in feature_names, replace with underlines\n",
            "[LightGBM] [Warning] Unknown parameter: n_extimators\n",
            "[LightGBM] [Warning] Auto-choosing col-wise multi-threading, the overhead of testing was 0.104961 seconds.\n",
            "You can set `force_col_wise=true` to remove the overhead.\n",
            "[LightGBM] [Info] Total Bins 929\n",
            "[LightGBM] [Info] Number of data points in the train set: 59225, number of used features: 10\n",
            "[LightGBM] [Warning] Unknown parameter: n_extimators\n",
            "[LightGBM] [Warning] Found whitespace in feature_names, replace with underlines\n",
            "[LightGBM] [Info] Start training from score 9.956387\n",
            "Training until validation scores don't improve for 20 rounds\n",
            "[10]\tvalid_0's l2: 6.9851\n",
            "[20]\tvalid_0's l2: 5.65474\n",
            "[30]\tvalid_0's l2: 4.99802\n",
            "[40]\tvalid_0's l2: 4.72563\n",
            "[50]\tvalid_0's l2: 4.58121\n",
            "[60]\tvalid_0's l2: 4.50155\n",
            "[70]\tvalid_0's l2: 4.45907\n",
            "[80]\tvalid_0's l2: 4.43102\n",
            "[90]\tvalid_0's l2: 4.41219\n"
          ]
        },
        {
          "output_type": "stream",
          "name": "stderr",
          "text": [
            "[I 2023-06-06 03:24:04,816] Trial 0 finished with value: 1.195147609757179 and parameters: {'num_leaves': 37, 'max_bin': 157, 'bagging_fraction': 0.7013816880358219, 'bagging_freq': 6, 'feature_fraction': 0.6118273996694523, 'min_data_in_leaf': 11, 'min_sum_hessian_in_leaf': 5}. Best is trial 0 with value: 1.195147609757179.\n"
          ]
        },
        {
          "output_type": "stream",
          "name": "stdout",
          "text": [
            "[100]\tvalid_0's l2: 4.40257\n",
            "Did not meet early stopping. Best iteration is:\n",
            "[100]\tvalid_0's l2: 4.40257\n",
            "[LightGBM] [Warning] Unknown parameter: n_extimators\n",
            "[LightGBM] [Warning] Found whitespace in feature_names, replace with underlines\n",
            "[LightGBM] [Warning] Unknown parameter: n_extimators\n",
            "[LightGBM] [Warning] Auto-choosing col-wise multi-threading, the overhead of testing was 0.004685 seconds.\n",
            "You can set `force_col_wise=true` to remove the overhead.\n",
            "[LightGBM] [Info] Total Bins 1081\n",
            "[LightGBM] [Info] Number of data points in the train set: 59225, number of used features: 10\n",
            "[LightGBM] [Warning] Unknown parameter: n_extimators\n",
            "[LightGBM] [Warning] Found whitespace in feature_names, replace with underlines\n",
            "[LightGBM] [Info] Start training from score 9.956387\n",
            "Training until validation scores don't improve for 20 rounds\n",
            "[10]\tvalid_0's l2: 6.88932\n",
            "[20]\tvalid_0's l2: 5.51611\n",
            "[30]\tvalid_0's l2: 4.87794\n",
            "[40]\tvalid_0's l2: 4.61234\n",
            "[50]\tvalid_0's l2: 4.489\n",
            "[60]\tvalid_0's l2: 4.4409\n",
            "[70]\tvalid_0's l2: 4.41437\n",
            "[80]\tvalid_0's l2: 4.39514\n",
            "[90]\tvalid_0's l2: 4.38258\n"
          ]
        },
        {
          "output_type": "stream",
          "name": "stderr",
          "text": [
            "[I 2023-06-06 03:24:05,724] Trial 1 finished with value: 1.1925802783240518 and parameters: {'num_leaves': 58, 'max_bin': 195, 'bagging_fraction': 0.5917207594128888, 'bagging_freq': 8, 'feature_fraction': 0.6644474598764523, 'min_data_in_leaf': 10, 'min_sum_hessian_in_leaf': 10}. Best is trial 1 with value: 1.1925802783240518.\n"
          ]
        },
        {
          "output_type": "stream",
          "name": "stdout",
          "text": [
            "[100]\tvalid_0's l2: 4.38087\n",
            "Did not meet early stopping. Best iteration is:\n",
            "[100]\tvalid_0's l2: 4.38087\n",
            "[LightGBM] [Warning] Unknown parameter: n_extimators\n",
            "[LightGBM] [Warning] Found whitespace in feature_names, replace with underlines\n",
            "[LightGBM] [Warning] Unknown parameter: n_extimators\n",
            "[LightGBM] [Warning] Auto-choosing col-wise multi-threading, the overhead of testing was 0.004793 seconds.\n",
            "You can set `force_col_wise=true` to remove the overhead.\n",
            "[LightGBM] [Info] Total Bins 435\n",
            "[LightGBM] [Info] Number of data points in the train set: 59225, number of used features: 10\n",
            "[LightGBM] [Warning] Unknown parameter: n_extimators\n",
            "[LightGBM] [Warning] Found whitespace in feature_names, replace with underlines\n",
            "[LightGBM] [Info] Start training from score 9.956387\n",
            "Training until validation scores don't improve for 20 rounds\n",
            "[10]\tvalid_0's l2: 7.28341\n",
            "[20]\tvalid_0's l2: 5.99692\n",
            "[30]\tvalid_0's l2: 5.37093\n",
            "[40]\tvalid_0's l2: 5.03111\n",
            "[50]\tvalid_0's l2: 4.84725\n",
            "[60]\tvalid_0's l2: 4.73799\n"
          ]
        },
        {
          "output_type": "stream",
          "name": "stderr",
          "text": [
            "[I 2023-06-06 03:24:06,222] Trial 2 finished with value: 1.2075511081074481 and parameters: {'num_leaves': 8, 'max_bin': 63, 'bagging_fraction': 0.4101091987201629, 'bagging_freq': 9, 'feature_fraction': 0.7890783754749253, 'min_data_in_leaf': 15, 'min_sum_hessian_in_leaf': 10}. Best is trial 1 with value: 1.1925802783240518.\n"
          ]
        },
        {
          "output_type": "stream",
          "name": "stdout",
          "text": [
            "[70]\tvalid_0's l2: 4.66867\n",
            "[80]\tvalid_0's l2: 4.61748\n",
            "[90]\tvalid_0's l2: 4.57728\n",
            "[100]\tvalid_0's l2: 4.54955\n",
            "Did not meet early stopping. Best iteration is:\n",
            "[100]\tvalid_0's l2: 4.54955\n",
            "[LightGBM] [Warning] Unknown parameter: n_extimators\n",
            "[LightGBM] [Warning] Found whitespace in feature_names, replace with underlines\n",
            "[LightGBM] [Warning] Unknown parameter: n_extimators\n",
            "[LightGBM] [Warning] Auto-choosing col-wise multi-threading, the overhead of testing was 0.004720 seconds.\n",
            "You can set `force_col_wise=true` to remove the overhead.\n",
            "[LightGBM] [Info] Total Bins 737\n",
            "[LightGBM] [Info] Number of data points in the train set: 59225, number of used features: 10\n",
            "[LightGBM] [Warning] Unknown parameter: n_extimators\n",
            "[LightGBM] [Warning] Found whitespace in feature_names, replace with underlines\n",
            "[LightGBM] [Info] Start training from score 9.956387\n",
            "Training until validation scores don't improve for 20 rounds\n",
            "[10]\tvalid_0's l2: 6.88555\n",
            "[20]\tvalid_0's l2: 5.52303\n",
            "[30]\tvalid_0's l2: 4.89635\n",
            "[40]\tvalid_0's l2: 4.63656\n",
            "[50]\tvalid_0's l2: 4.5077\n",
            "[60]\tvalid_0's l2: 4.45112\n",
            "[70]\tvalid_0's l2: 4.42239\n",
            "[80]\tvalid_0's l2: 4.40368\n",
            "[90]\tvalid_0's l2: 4.39366\n",
            "[100]\tvalid_0's l2: 4.39178\n",
            "Did not meet early stopping. Best iteration is:\n",
            "[100]\tvalid_0's l2: 4.39178\n"
          ]
        },
        {
          "output_type": "stream",
          "name": "stderr",
          "text": [
            "[I 2023-06-06 03:24:07,221] Trial 3 finished with value: 1.1933035316826275 and parameters: {'num_leaves': 52, 'max_bin': 119, 'bagging_fraction': 0.7902645881432278, 'bagging_freq': 2, 'feature_fraction': 0.7199605106637619, 'min_data_in_leaf': 4, 'min_sum_hessian_in_leaf': 10}. Best is trial 1 with value: 1.1925802783240518.\n"
          ]
        },
        {
          "output_type": "stream",
          "name": "stdout",
          "text": [
            "[LightGBM] [Warning] Unknown parameter: n_extimators\n",
            "[LightGBM] [Warning] Found whitespace in feature_names, replace with underlines\n",
            "[LightGBM] [Warning] Unknown parameter: n_extimators\n",
            "[LightGBM] [Warning] Auto-choosing col-wise multi-threading, the overhead of testing was 0.006150 seconds.\n",
            "You can set `force_col_wise=true` to remove the overhead.\n",
            "[LightGBM] [Info] Total Bins 707\n",
            "[LightGBM] [Info] Number of data points in the train set: 59225, number of used features: 10\n",
            "[LightGBM] [Warning] Unknown parameter: n_extimators\n",
            "[LightGBM] [Warning] Found whitespace in feature_names, replace with underlines\n",
            "[LightGBM] [Info] Start training from score 9.956387\n",
            "Training until validation scores don't improve for 20 rounds\n",
            "[10]\tvalid_0's l2: 6.99596\n",
            "[20]\tvalid_0's l2: 5.67651\n",
            "[30]\tvalid_0's l2: 5.01911\n",
            "[40]\tvalid_0's l2: 4.73638\n",
            "[50]\tvalid_0's l2: 4.59613\n",
            "[60]\tvalid_0's l2: 4.52436\n",
            "[70]\tvalid_0's l2: 4.48041\n",
            "[80]\tvalid_0's l2: 4.44965\n",
            "[90]\tvalid_0's l2: 4.43273\n"
          ]
        },
        {
          "output_type": "stream",
          "name": "stderr",
          "text": [
            "[I 2023-06-06 03:24:08,019] Trial 4 finished with value: 1.196387643846003 and parameters: {'num_leaves': 35, 'max_bin': 112, 'bagging_fraction': 0.5322778060523135, 'bagging_freq': 8, 'feature_fraction': 0.6280751661082743, 'min_data_in_leaf': 10, 'min_sum_hessian_in_leaf': 1}. Best is trial 1 with value: 1.1925802783240518.\n"
          ]
        },
        {
          "output_type": "stream",
          "name": "stdout",
          "text": [
            "[100]\tvalid_0's l2: 4.42553\n",
            "Did not meet early stopping. Best iteration is:\n",
            "[100]\tvalid_0's l2: 4.42553\n",
            "[LightGBM] [Warning] Unknown parameter: n_extimators\n",
            "[LightGBM] [Warning] Found whitespace in feature_names, replace with underlines\n",
            "[LightGBM] [Warning] Unknown parameter: n_extimators\n",
            "[LightGBM] [Warning] Auto-choosing col-wise multi-threading, the overhead of testing was 0.006132 seconds.\n",
            "You can set `force_col_wise=true` to remove the overhead.\n",
            "[LightGBM] [Info] Total Bins 848\n",
            "[LightGBM] [Info] Number of data points in the train set: 59225, number of used features: 10\n",
            "[LightGBM] [Warning] Unknown parameter: n_extimators\n",
            "[LightGBM] [Warning] Found whitespace in feature_names, replace with underlines\n",
            "[LightGBM] [Info] Start training from score 9.956387\n",
            "Training until validation scores don't improve for 20 rounds\n",
            "[10]\tvalid_0's l2: 6.91707\n",
            "[20]\tvalid_0's l2: 5.56111\n",
            "[30]\tvalid_0's l2: 4.92246\n",
            "[40]\tvalid_0's l2: 4.65451\n",
            "[50]\tvalid_0's l2: 4.52483\n",
            "[60]\tvalid_0's l2: 4.46413\n",
            "[70]\tvalid_0's l2: 4.42927\n",
            "[80]\tvalid_0's l2: 4.41089\n",
            "[90]\tvalid_0's l2: 4.39906\n",
            "[100]\tvalid_0's l2: 4.39311\n",
            "Did not meet early stopping. Best iteration is:\n",
            "[100]\tvalid_0's l2: 4.39311\n"
          ]
        },
        {
          "output_type": "stream",
          "name": "stderr",
          "text": [
            "[I 2023-06-06 03:24:08,894] Trial 5 finished with value: 1.1931002934281474 and parameters: {'num_leaves': 41, 'max_bin': 142, 'bagging_fraction': 0.7084669984373785, 'bagging_freq': 10, 'feature_fraction': 0.7409101495517417, 'min_data_in_leaf': 7, 'min_sum_hessian_in_leaf': 5}. Best is trial 1 with value: 1.1925802783240518.\n"
          ]
        },
        {
          "output_type": "stream",
          "name": "stdout",
          "text": [
            "[LightGBM] [Warning] Unknown parameter: n_extimators\n",
            "[LightGBM] [Warning] Found whitespace in feature_names, replace with underlines\n",
            "[LightGBM] [Warning] Unknown parameter: n_extimators\n",
            "[LightGBM] [Warning] Auto-choosing col-wise multi-threading, the overhead of testing was 0.004674 seconds.\n",
            "You can set `force_col_wise=true` to remove the overhead.\n",
            "[LightGBM] [Info] Total Bins 408\n",
            "[LightGBM] [Info] Number of data points in the train set: 59225, number of used features: 10\n",
            "[LightGBM] [Warning] Unknown parameter: n_extimators\n",
            "[LightGBM] [Warning] Found whitespace in feature_names, replace with underlines\n",
            "[LightGBM] [Info] Start training from score 9.956387\n",
            "Training until validation scores don't improve for 20 rounds\n",
            "[10]\tvalid_0's l2: 7.07919\n",
            "[20]\tvalid_0's l2: 5.75829\n",
            "[30]\tvalid_0's l2: 5.1111\n",
            "[40]\tvalid_0's l2: 4.82922\n",
            "[50]\tvalid_0's l2: 4.67671\n",
            "[60]\tvalid_0's l2: 4.57872\n",
            "[70]\tvalid_0's l2: 4.52327\n",
            "[80]\tvalid_0's l2: 4.49398\n"
          ]
        },
        {
          "output_type": "stream",
          "name": "stderr",
          "text": [
            "[I 2023-06-06 03:24:09,788] Trial 6 finished with value: 1.1985769763014051 and parameters: {'num_leaves': 46, 'max_bin': 59, 'bagging_fraction': 0.7333833577228339, 'bagging_freq': 7, 'feature_fraction': 0.5051912805369205, 'min_data_in_leaf': 3, 'min_sum_hessian_in_leaf': 4}. Best is trial 1 with value: 1.1925802783240518.\n"
          ]
        },
        {
          "output_type": "stream",
          "name": "stdout",
          "text": [
            "[90]\tvalid_0's l2: 4.47348\n",
            "[100]\tvalid_0's l2: 4.45496\n",
            "Did not meet early stopping. Best iteration is:\n",
            "[100]\tvalid_0's l2: 4.45496\n",
            "[LightGBM] [Warning] Unknown parameter: n_extimators\n",
            "[LightGBM] [Warning] Found whitespace in feature_names, replace with underlines\n",
            "[LightGBM] [Warning] Unknown parameter: n_extimators\n",
            "[LightGBM] [Warning] Auto-choosing col-wise multi-threading, the overhead of testing was 0.004834 seconds.\n",
            "You can set `force_col_wise=true` to remove the overhead.\n",
            "[LightGBM] [Info] Total Bins 823\n",
            "[LightGBM] [Info] Number of data points in the train set: 59225, number of used features: 10\n",
            "[LightGBM] [Warning] Unknown parameter: n_extimators\n",
            "[LightGBM] [Warning] Found whitespace in feature_names, replace with underlines\n",
            "[LightGBM] [Info] Start training from score 9.956387\n",
            "Training until validation scores don't improve for 20 rounds\n",
            "[10]\tvalid_0's l2: 7.12297\n",
            "[20]\tvalid_0's l2: 5.8071\n",
            "[30]\tvalid_0's l2: 5.16591\n",
            "[40]\tvalid_0's l2: 4.8764\n",
            "[50]\tvalid_0's l2: 4.70768\n",
            "[60]\tvalid_0's l2: 4.5961\n",
            "[70]\tvalid_0's l2: 4.54095\n",
            "[80]\tvalid_0's l2: 4.50594\n",
            "[90]\tvalid_0's l2: 4.48212\n",
            "[100]\tvalid_0's l2: 4.45963\n",
            "Did not meet early stopping. Best iteration is:\n",
            "[100]\tvalid_0's l2: 4.45963\n"
          ]
        },
        {
          "output_type": "stream",
          "name": "stderr",
          "text": [
            "[I 2023-06-06 03:24:10,556] Trial 7 finished with value: 1.199227015305065 and parameters: {'num_leaves': 26, 'max_bin': 136, 'bagging_fraction': 0.6193007567311601, 'bagging_freq': 10, 'feature_fraction': 0.45102240537401406, 'min_data_in_leaf': 5, 'min_sum_hessian_in_leaf': 2}. Best is trial 1 with value: 1.1925802783240518.\n"
          ]
        },
        {
          "output_type": "stream",
          "name": "stdout",
          "text": [
            "[LightGBM] [Warning] Unknown parameter: n_extimators\n",
            "[LightGBM] [Warning] Found whitespace in feature_names, replace with underlines\n",
            "[LightGBM] [Warning] Unknown parameter: n_extimators\n",
            "[LightGBM] [Warning] Auto-choosing col-wise multi-threading, the overhead of testing was 0.004788 seconds.\n",
            "You can set `force_col_wise=true` to remove the overhead.\n",
            "[LightGBM] [Info] Total Bins 583\n",
            "[LightGBM] [Info] Number of data points in the train set: 59225, number of used features: 10\n",
            "[LightGBM] [Warning] Unknown parameter: n_extimators\n",
            "[LightGBM] [Warning] Found whitespace in feature_names, replace with underlines\n",
            "[LightGBM] [Info] Start training from score 9.956387\n",
            "Training until validation scores don't improve for 20 rounds\n",
            "[10]\tvalid_0's l2: 7.07772\n",
            "[20]\tvalid_0's l2: 5.74604\n",
            "[30]\tvalid_0's l2: 5.10554\n",
            "[40]\tvalid_0's l2: 4.82439\n",
            "[50]\tvalid_0's l2: 4.66876\n",
            "[60]\tvalid_0's l2: 4.56404\n",
            "[70]\tvalid_0's l2: 4.51201\n",
            "[80]\tvalid_0's l2: 4.48196\n"
          ]
        },
        {
          "output_type": "stream",
          "name": "stderr",
          "text": [
            "[I 2023-06-06 03:24:11,428] Trial 8 finished with value: 1.1977927766396914 and parameters: {'num_leaves': 43, 'max_bin': 88, 'bagging_fraction': 0.6331553864281532, 'bagging_freq': 3, 'feature_fraction': 0.4794847918227599, 'min_data_in_leaf': 3, 'min_sum_hessian_in_leaf': 7}. Best is trial 1 with value: 1.1925802783240518.\n"
          ]
        },
        {
          "output_type": "stream",
          "name": "stdout",
          "text": [
            "[90]\tvalid_0's l2: 4.46204\n",
            "[100]\tvalid_0's l2: 4.44102\n",
            "Did not meet early stopping. Best iteration is:\n",
            "[100]\tvalid_0's l2: 4.44102\n",
            "[LightGBM] [Warning] Unknown parameter: n_extimators\n",
            "[LightGBM] [Warning] Found whitespace in feature_names, replace with underlines\n",
            "[LightGBM] [Warning] Unknown parameter: n_extimators\n",
            "[LightGBM] [Warning] Auto-choosing col-wise multi-threading, the overhead of testing was 0.004387 seconds.\n",
            "You can set `force_col_wise=true` to remove the overhead.\n",
            "[LightGBM] [Info] Total Bins 531\n",
            "[LightGBM] [Info] Number of data points in the train set: 59225, number of used features: 10\n",
            "[LightGBM] [Warning] Unknown parameter: n_extimators\n",
            "[LightGBM] [Warning] Found whitespace in feature_names, replace with underlines\n",
            "[LightGBM] [Info] Start training from score 9.956387\n",
            "Training until validation scores don't improve for 20 rounds\n",
            "[10]\tvalid_0's l2: 7.39734\n",
            "[20]\tvalid_0's l2: 6.02856\n",
            "[30]\tvalid_0's l2: 5.4671\n",
            "[40]\tvalid_0's l2: 5.20591\n",
            "[50]\tvalid_0's l2: 5.00233\n",
            "[60]\tvalid_0's l2: 4.88714\n",
            "[70]\tvalid_0's l2: 4.77998\n",
            "[80]\tvalid_0's l2: 4.69166\n"
          ]
        },
        {
          "output_type": "stream",
          "name": "stderr",
          "text": [
            "[I 2023-06-06 03:24:12,061] Trial 9 finished with value: 1.2117385941088805 and parameters: {'num_leaves': 12, 'max_bin': 79, 'bagging_fraction': 0.5843625853304821, 'bagging_freq': 9, 'feature_fraction': 0.44855063789653066, 'min_data_in_leaf': 14, 'min_sum_hessian_in_leaf': 1}. Best is trial 1 with value: 1.1925802783240518.\n"
          ]
        },
        {
          "output_type": "stream",
          "name": "stdout",
          "text": [
            "[90]\tvalid_0's l2: 4.63864\n",
            "[100]\tvalid_0's l2: 4.6006\n",
            "Did not meet early stopping. Best iteration is:\n",
            "[100]\tvalid_0's l2: 4.6006\n",
            "[LightGBM] [Warning] Unknown parameter: n_extimators\n",
            "[LightGBM] [Warning] Found whitespace in feature_names, replace with underlines\n",
            "[LightGBM] [Warning] Unknown parameter: n_extimators\n",
            "[LightGBM] [Warning] Auto-choosing col-wise multi-threading, the overhead of testing was 0.009810 seconds.\n",
            "You can set `force_col_wise=true` to remove the overhead.\n",
            "[LightGBM] [Info] Total Bins 742\n",
            "[LightGBM] [Info] Number of data points in the train set: 59225, number of used features: 10\n",
            "[LightGBM] [Warning] Unknown parameter: n_extimators\n",
            "[LightGBM] [Warning] Found whitespace in feature_names, replace with underlines\n",
            "[LightGBM] [Info] Start training from score 9.956387\n",
            "Training until validation scores don't improve for 20 rounds\n",
            "[10]\tvalid_0's l2: 6.81979\n",
            "[20]\tvalid_0's l2: 5.41025\n",
            "[30]\tvalid_0's l2: 4.82246\n",
            "[40]\tvalid_0's l2: 4.58422\n",
            "[50]\tvalid_0's l2: 4.47612\n",
            "[60]\tvalid_0's l2: 4.43261\n",
            "[70]\tvalid_0's l2: 4.40974\n",
            "[80]\tvalid_0's l2: 4.39563\n"
          ]
        },
        {
          "output_type": "stream",
          "name": "stderr",
          "text": [
            "[I 2023-06-06 03:24:16,445] Trial 10 finished with value: 1.193404854014493 and parameters: {'num_leaves': 63, 'max_bin': 120, 'bagging_fraction': 0.8883805440951686, 'bagging_freq': 7, 'feature_fraction': 0.7696317896991509, 'min_data_in_leaf': 2, 'min_sum_hessian_in_leaf': 3}. Best is trial 1 with value: 1.1925802783240518.\n"
          ]
        },
        {
          "output_type": "stream",
          "name": "stdout",
          "text": [
            "[90]\tvalid_0's l2: 4.38758\n",
            "[100]\tvalid_0's l2: 4.38584\n",
            "Did not meet early stopping. Best iteration is:\n",
            "[94]\tvalid_0's l2: 4.38449\n",
            "[LightGBM] [Warning] Unknown parameter: n_extimators\n",
            "[LightGBM] [Warning] Found whitespace in feature_names, replace with underlines\n",
            "[LightGBM] [Warning] Unknown parameter: n_extimators\n",
            "[LightGBM] [Warning] Auto-choosing col-wise multi-threading, the overhead of testing was 0.004636 seconds.\n",
            "You can set `force_col_wise=true` to remove the overhead.\n",
            "[LightGBM] [Info] Total Bins 615\n",
            "[LightGBM] [Info] Number of data points in the train set: 59225, number of used features: 10\n",
            "[LightGBM] [Warning] Unknown parameter: n_extimators\n",
            "[LightGBM] [Warning] Found whitespace in feature_names, replace with underlines\n",
            "[LightGBM] [Info] Start training from score 9.956387\n",
            "Training until validation scores don't improve for 20 rounds\n",
            "[10]\tvalid_0's l2: 7.21427\n",
            "[20]\tvalid_0's l2: 5.93769\n",
            "[30]\tvalid_0's l2: 5.30287\n",
            "[40]\tvalid_0's l2: 4.99855\n",
            "[50]\tvalid_0's l2: 4.8163\n",
            "[60]\tvalid_0's l2: 4.70315\n",
            "[70]\tvalid_0's l2: 4.63232\n"
          ]
        },
        {
          "output_type": "stream",
          "name": "stderr",
          "text": [
            "[I 2023-06-06 03:24:17,022] Trial 11 finished with value: 1.2054212347635587 and parameters: {'num_leaves': 11, 'max_bin': 94, 'bagging_fraction': 0.45936385947712205, 'bagging_freq': 4, 'feature_fraction': 0.607131497257335, 'min_data_in_leaf': 2, 'min_sum_hessian_in_leaf': 7}. Best is trial 1 with value: 1.1925802783240518.\n"
          ]
        },
        {
          "output_type": "stream",
          "name": "stdout",
          "text": [
            "[80]\tvalid_0's l2: 4.58239\n",
            "[90]\tvalid_0's l2: 4.54332\n",
            "[100]\tvalid_0's l2: 4.51781\n",
            "Did not meet early stopping. Best iteration is:\n",
            "[100]\tvalid_0's l2: 4.51781\n",
            "[LightGBM] [Warning] Unknown parameter: n_extimators\n",
            "[LightGBM] [Warning] Found whitespace in feature_names, replace with underlines\n",
            "[LightGBM] [Warning] Unknown parameter: n_extimators\n",
            "[LightGBM] [Warning] Auto-choosing col-wise multi-threading, the overhead of testing was 0.004763 seconds.\n",
            "You can set `force_col_wise=true` to remove the overhead.\n",
            "[LightGBM] [Info] Total Bins 594\n",
            "[LightGBM] [Info] Number of data points in the train set: 59225, number of used features: 10\n",
            "[LightGBM] [Warning] Unknown parameter: n_extimators\n",
            "[LightGBM] [Warning] Found whitespace in feature_names, replace with underlines\n",
            "[LightGBM] [Info] Start training from score 9.956387\n",
            "Training until validation scores don't improve for 20 rounds\n",
            "[10]\tvalid_0's l2: 6.93273\n",
            "[20]\tvalid_0's l2: 5.56817\n",
            "[30]\tvalid_0's l2: 4.93458\n",
            "[40]\tvalid_0's l2: 4.66889\n",
            "[50]\tvalid_0's l2: 4.53622\n",
            "[60]\tvalid_0's l2: 4.47873\n",
            "[70]\tvalid_0's l2: 4.44197\n",
            "[80]\tvalid_0's l2: 4.41881\n",
            "[90]\tvalid_0's l2: 4.40631\n",
            "[100]\tvalid_0's l2: 4.39875\n",
            "Did not meet early stopping. Best iteration is:\n",
            "[100]\tvalid_0's l2: 4.39875\n"
          ]
        },
        {
          "output_type": "stream",
          "name": "stderr",
          "text": [
            "[I 2023-06-06 03:24:17,764] Trial 12 finished with value: 1.1942971077958184 and parameters: {'num_leaves': 38, 'max_bin': 90, 'bagging_fraction': 0.6616240267333499, 'bagging_freq': 1, 'feature_fraction': 0.6879732477780897, 'min_data_in_leaf': 15, 'min_sum_hessian_in_leaf': 4}. Best is trial 1 with value: 1.1925802783240518.\n"
          ]
        },
        {
          "output_type": "stream",
          "name": "stdout",
          "text": [
            "[LightGBM] [Warning] Unknown parameter: n_extimators\n",
            "[LightGBM] [Warning] Found whitespace in feature_names, replace with underlines\n",
            "[LightGBM] [Warning] Unknown parameter: n_extimators\n",
            "[LightGBM] [Warning] Auto-choosing col-wise multi-threading, the overhead of testing was 0.005964 seconds.\n",
            "You can set `force_col_wise=true` to remove the overhead.\n",
            "[LightGBM] [Info] Total Bins 471\n",
            "[LightGBM] [Info] Number of data points in the train set: 59225, number of used features: 10\n",
            "[LightGBM] [Warning] Unknown parameter: n_extimators\n",
            "[LightGBM] [Warning] Found whitespace in feature_names, replace with underlines\n",
            "[LightGBM] [Info] Start training from score 9.956387\n",
            "Training until validation scores don't improve for 20 rounds\n",
            "[10]\tvalid_0's l2: 7.07785\n",
            "[20]\tvalid_0's l2: 5.74651\n",
            "[30]\tvalid_0's l2: 5.10107\n",
            "[40]\tvalid_0's l2: 4.81861\n",
            "[50]\tvalid_0's l2: 4.66551\n",
            "[60]\tvalid_0's l2: 4.5624\n",
            "[70]\tvalid_0's l2: 4.50855\n",
            "[80]\tvalid_0's l2: 4.48018\n",
            "[90]\tvalid_0's l2: 4.46005\n",
            "[100]\tvalid_0's l2: 4.44273\n",
            "Did not meet early stopping. Best iteration is:\n",
            "[100]\tvalid_0's l2: 4.44273\n"
          ]
        },
        {
          "output_type": "stream",
          "name": "stderr",
          "text": [
            "[I 2023-06-06 03:24:18,699] Trial 13 finished with value: 1.1977714396034775 and parameters: {'num_leaves': 44, 'max_bin': 69, 'bagging_fraction': 0.7581636020592828, 'bagging_freq': 3, 'feature_fraction': 0.49159568100355844, 'min_data_in_leaf': 10, 'min_sum_hessian_in_leaf': 1}. Best is trial 1 with value: 1.1925802783240518.\n"
          ]
        },
        {
          "output_type": "stream",
          "name": "stdout",
          "text": [
            "[LightGBM] [Warning] Unknown parameter: n_extimators\n",
            "[LightGBM] [Warning] Found whitespace in feature_names, replace with underlines\n",
            "[LightGBM] [Warning] Unknown parameter: n_extimators\n",
            "[LightGBM] [Warning] Auto-choosing col-wise multi-threading, the overhead of testing was 0.004929 seconds.\n",
            "You can set `force_col_wise=true` to remove the overhead.\n",
            "[LightGBM] [Info] Total Bins 351\n",
            "[LightGBM] [Info] Number of data points in the train set: 59225, number of used features: 10\n",
            "[LightGBM] [Warning] Unknown parameter: n_extimators\n",
            "[LightGBM] [Warning] Found whitespace in feature_names, replace with underlines\n",
            "[LightGBM] [Info] Start training from score 9.956387\n",
            "Training until validation scores don't improve for 20 rounds\n",
            "[10]\tvalid_0's l2: 6.85097\n",
            "[20]\tvalid_0's l2: 5.43919\n",
            "[30]\tvalid_0's l2: 4.85917\n",
            "[40]\tvalid_0's l2: 4.6113\n",
            "[50]\tvalid_0's l2: 4.50201\n",
            "[60]\tvalid_0's l2: 4.45734\n",
            "[70]\tvalid_0's l2: 4.42744\n",
            "[80]\tvalid_0's l2: 4.41162\n",
            "[90]\tvalid_0's l2: 4.40533\n",
            "[100]\tvalid_0's l2: 4.40301\n",
            "Did not meet early stopping. Best iteration is:\n",
            "[99]\tvalid_0's l2: 4.40273\n"
          ]
        },
        {
          "output_type": "stream",
          "name": "stderr",
          "text": [
            "[I 2023-06-06 03:24:19,700] Trial 14 finished with value: 1.1942740324773322 and parameters: {'num_leaves': 54, 'max_bin': 50, 'bagging_fraction': 0.7389082683981151, 'bagging_freq': 3, 'feature_fraction': 0.7675970110612975, 'min_data_in_leaf': 16, 'min_sum_hessian_in_leaf': 3}. Best is trial 1 with value: 1.1925802783240518.\n"
          ]
        },
        {
          "output_type": "stream",
          "name": "stdout",
          "text": [
            "[LightGBM] [Warning] Unknown parameter: n_extimators\n",
            "[LightGBM] [Warning] Found whitespace in feature_names, replace with underlines\n",
            "[LightGBM] [Warning] Unknown parameter: n_extimators\n",
            "[LightGBM] [Warning] Auto-choosing col-wise multi-threading, the overhead of testing was 0.004927 seconds.\n",
            "You can set `force_col_wise=true` to remove the overhead.\n",
            "[LightGBM] [Info] Total Bins 835\n",
            "[LightGBM] [Info] Number of data points in the train set: 59225, number of used features: 10\n",
            "[LightGBM] [Warning] Unknown parameter: n_extimators\n",
            "[LightGBM] [Warning] Found whitespace in feature_names, replace with underlines\n",
            "[LightGBM] [Info] Start training from score 9.956387\n",
            "Training until validation scores don't improve for 20 rounds\n",
            "[10]\tvalid_0's l2: 6.83385\n",
            "[20]\tvalid_0's l2: 5.41077\n",
            "[30]\tvalid_0's l2: 4.84356\n",
            "[40]\tvalid_0's l2: 4.59874\n",
            "[50]\tvalid_0's l2: 4.48399\n",
            "[60]\tvalid_0's l2: 4.43118\n",
            "[70]\tvalid_0's l2: 4.40669\n"
          ]
        },
        {
          "output_type": "stream",
          "name": "stderr",
          "text": [
            "[I 2023-06-06 03:24:20,600] Trial 15 finished with value: 1.193170375739985 and parameters: {'num_leaves': 39, 'max_bin': 139, 'bagging_fraction': 0.6861259528954367, 'bagging_freq': 3, 'feature_fraction': 0.8763745057584925, 'min_data_in_leaf': 8, 'min_sum_hessian_in_leaf': 9}. Best is trial 1 with value: 1.1925802783240518.\n"
          ]
        },
        {
          "output_type": "stream",
          "name": "stdout",
          "text": [
            "[80]\tvalid_0's l2: 4.39305\n",
            "[90]\tvalid_0's l2: 4.38418\n",
            "[100]\tvalid_0's l2: 4.37832\n",
            "Did not meet early stopping. Best iteration is:\n",
            "[99]\tvalid_0's l2: 4.37782\n",
            "[LightGBM] [Warning] Unknown parameter: n_extimators\n",
            "[LightGBM] [Warning] Found whitespace in feature_names, replace with underlines\n",
            "[LightGBM] [Warning] Unknown parameter: n_extimators\n",
            "[LightGBM] [Warning] Auto-choosing col-wise multi-threading, the overhead of testing was 0.005245 seconds.\n",
            "You can set `force_col_wise=true` to remove the overhead.\n",
            "[LightGBM] [Info] Total Bins 615\n",
            "[LightGBM] [Info] Number of data points in the train set: 59225, number of used features: 10\n",
            "[LightGBM] [Warning] Unknown parameter: n_extimators\n",
            "[LightGBM] [Warning] Found whitespace in feature_names, replace with underlines\n",
            "[LightGBM] [Info] Start training from score 9.956387\n",
            "Training until validation scores don't improve for 20 rounds\n",
            "[10]\tvalid_0's l2: 6.85722\n",
            "[20]\tvalid_0's l2: 5.43832\n",
            "[30]\tvalid_0's l2: 4.85033\n",
            "[40]\tvalid_0's l2: 4.59972\n",
            "[50]\tvalid_0's l2: 4.48822\n",
            "[60]\tvalid_0's l2: 4.43774\n",
            "[70]\tvalid_0's l2: 4.40933\n",
            "[80]\tvalid_0's l2: 4.39094\n"
          ]
        },
        {
          "output_type": "stream",
          "name": "stderr",
          "text": [
            "[I 2023-06-06 03:24:21,585] Trial 16 finished with value: 1.1926711650889505 and parameters: {'num_leaves': 46, 'max_bin': 94, 'bagging_fraction': 0.8068989098512387, 'bagging_freq': 4, 'feature_fraction': 0.8405515985555808, 'min_data_in_leaf': 10, 'min_sum_hessian_in_leaf': 9}. Best is trial 1 with value: 1.1925802783240518.\n"
          ]
        },
        {
          "output_type": "stream",
          "name": "stdout",
          "text": [
            "[90]\tvalid_0's l2: 4.38004\n",
            "[100]\tvalid_0's l2: 4.3784\n",
            "Did not meet early stopping. Best iteration is:\n",
            "[99]\tvalid_0's l2: 4.37796\n",
            "[LightGBM] [Warning] Unknown parameter: n_extimators\n",
            "[LightGBM] [Warning] Found whitespace in feature_names, replace with underlines\n",
            "[LightGBM] [Warning] Unknown parameter: n_extimators\n",
            "[LightGBM] [Warning] Auto-choosing col-wise multi-threading, the overhead of testing was 0.005005 seconds.\n",
            "You can set `force_col_wise=true` to remove the overhead.\n",
            "[LightGBM] [Info] Total Bins 937\n",
            "[LightGBM] [Info] Number of data points in the train set: 59225, number of used features: 10\n",
            "[LightGBM] [Warning] Unknown parameter: n_extimators\n",
            "[LightGBM] [Warning] Found whitespace in feature_names, replace with underlines\n",
            "[LightGBM] [Info] Start training from score 9.956387\n",
            "Training until validation scores don't improve for 20 rounds\n",
            "[10]\tvalid_0's l2: 6.91057\n",
            "[20]\tvalid_0's l2: 5.54297\n",
            "[30]\tvalid_0's l2: 4.90807\n",
            "[40]\tvalid_0's l2: 4.64625\n",
            "[50]\tvalid_0's l2: 4.51463\n",
            "[60]\tvalid_0's l2: 4.45442\n",
            "[70]\tvalid_0's l2: 4.42086\n",
            "[80]\tvalid_0's l2: 4.40498\n",
            "[90]\tvalid_0's l2: 4.39215\n"
          ]
        },
        {
          "output_type": "stream",
          "name": "stderr",
          "text": [
            "[I 2023-06-06 03:24:22,486] Trial 17 finished with value: 1.192996165903969 and parameters: {'num_leaves': 46, 'max_bin': 159, 'bagging_fraction': 0.6506621909633512, 'bagging_freq': 10, 'feature_fraction': 0.7219950996148188, 'min_data_in_leaf': 8, 'min_sum_hessian_in_leaf': 7}. Best is trial 1 with value: 1.1925802783240518.\n"
          ]
        },
        {
          "output_type": "stream",
          "name": "stdout",
          "text": [
            "[100]\tvalid_0's l2: 4.38574\n",
            "Did not meet early stopping. Best iteration is:\n",
            "[99]\tvalid_0's l2: 4.38521\n",
            "[LightGBM] [Warning] Unknown parameter: n_extimators\n",
            "[LightGBM] [Warning] Found whitespace in feature_names, replace with underlines\n",
            "[LightGBM] [Warning] Unknown parameter: n_extimators\n",
            "[LightGBM] [Warning] Auto-choosing col-wise multi-threading, the overhead of testing was 0.004706 seconds.\n",
            "You can set `force_col_wise=true` to remove the overhead.\n",
            "[LightGBM] [Info] Total Bins 621\n",
            "[LightGBM] [Info] Number of data points in the train set: 59225, number of used features: 10\n",
            "[LightGBM] [Warning] Unknown parameter: n_extimators\n",
            "[LightGBM] [Warning] Found whitespace in feature_names, replace with underlines\n",
            "[LightGBM] [Info] Start training from score 9.956387\n",
            "Training until validation scores don't improve for 20 rounds\n",
            "[10]\tvalid_0's l2: 7.48363\n",
            "[20]\tvalid_0's l2: 6.27185\n",
            "[30]\tvalid_0's l2: 5.68462\n",
            "[40]\tvalid_0's l2: 5.37818\n",
            "[50]\tvalid_0's l2: 5.16727\n",
            "[60]\tvalid_0's l2: 5.02941\n",
            "[70]\tvalid_0's l2: 4.93925\n"
          ]
        },
        {
          "output_type": "stream",
          "name": "stderr",
          "text": [
            "[I 2023-06-06 03:24:22,977] Trial 18 finished with value: 1.2239321002774972 and parameters: {'num_leaves': 5, 'max_bin': 95, 'bagging_fraction': 0.7300867687463426, 'bagging_freq': 3, 'feature_fraction': 0.7090077144994208, 'min_data_in_leaf': 8, 'min_sum_hessian_in_leaf': 2}. Best is trial 1 with value: 1.1925802783240518.\n"
          ]
        },
        {
          "output_type": "stream",
          "name": "stdout",
          "text": [
            "[80]\tvalid_0's l2: 4.86249\n",
            "[90]\tvalid_0's l2: 4.79715\n",
            "[100]\tvalid_0's l2: 4.74955\n",
            "Did not meet early stopping. Best iteration is:\n",
            "[100]\tvalid_0's l2: 4.74955\n",
            "[LightGBM] [Warning] Unknown parameter: n_extimators\n",
            "[LightGBM] [Warning] Found whitespace in feature_names, replace with underlines\n",
            "[LightGBM] [Warning] Unknown parameter: n_extimators\n",
            "[LightGBM] [Warning] Auto-choosing col-wise multi-threading, the overhead of testing was 0.005978 seconds.\n",
            "You can set `force_col_wise=true` to remove the overhead.\n",
            "[LightGBM] [Info] Total Bins 823\n",
            "[LightGBM] [Info] Number of data points in the train set: 59225, number of used features: 10\n",
            "[LightGBM] [Warning] Unknown parameter: n_extimators\n",
            "[LightGBM] [Warning] Found whitespace in feature_names, replace with underlines\n",
            "[LightGBM] [Info] Start training from score 9.956387\n",
            "Training until validation scores don't improve for 20 rounds\n",
            "[10]\tvalid_0's l2: 7.0042\n",
            "[20]\tvalid_0's l2: 5.66559\n",
            "[30]\tvalid_0's l2: 5.0171\n",
            "[40]\tvalid_0's l2: 4.73736\n",
            "[50]\tvalid_0's l2: 4.58966\n",
            "[60]\tvalid_0's l2: 4.51216\n",
            "[70]\tvalid_0's l2: 4.46863\n"
          ]
        },
        {
          "output_type": "stream",
          "name": "stderr",
          "text": [
            "[I 2023-06-06 03:24:23,739] Trial 19 finished with value: 1.1956215405936739 and parameters: {'num_leaves': 22, 'max_bin': 136, 'bagging_fraction': 0.6954363806240866, 'bagging_freq': 6, 'feature_fraction': 0.7266004099285668, 'min_data_in_leaf': 11, 'min_sum_hessian_in_leaf': 5}. Best is trial 1 with value: 1.1925802783240518.\n"
          ]
        },
        {
          "output_type": "stream",
          "name": "stdout",
          "text": [
            "[80]\tvalid_0's l2: 4.4404\n",
            "[90]\tvalid_0's l2: 4.42138\n",
            "[100]\tvalid_0's l2: 4.40946\n",
            "Did not meet early stopping. Best iteration is:\n",
            "[100]\tvalid_0's l2: 4.40946\n"
          ]
        },
        {
          "output_type": "execute_result",
          "data": {
            "text/plain": [
              "{'num_leaves': 58,\n",
              " 'max_bin': 195,\n",
              " 'bagging_fraction': 0.5917207594128888,\n",
              " 'bagging_freq': 8,\n",
              " 'feature_fraction': 0.6644474598764523,\n",
              " 'min_data_in_leaf': 10,\n",
              " 'min_sum_hessian_in_leaf': 10}"
            ]
          },
          "metadata": {},
          "execution_count": 252
        }
      ]
    },
    {
      "cell_type": "code",
      "source": [
        "\"\"\"\n",
        "lgbm_params = {'learning_rate':0.05,\n",
        "               'num_iterations':1000,\n",
        "               'num_leaves': 60,\n",
        "               'max_bin': 157,\n",
        "               'bagging_fraction': 0.8994235032839333,\n",
        "               'bagging_freq': 2,\n",
        "               'feature_fraction': 0.8340630286841071,\n",
        "               'min_data_in_leaf': 4,\n",
        "               'min_sum_hessian_in_leaf': 7\n",
        "               }\n",
        "               \"\"\"\n",
        "lgbm_params = {'learning_rate':0.05,\n",
        "               'num_iterations':1000,\n",
        "               'num_leaves': 58,\n",
        "               'max_bin': 195,\n",
        "               'bagging_fraction': 0.5917207594128888,\n",
        "               'bagging_freq': 8,\n",
        "               'feature_fraction': 0.6644474598764523,\n",
        "               'min_data_in_leaf': 10,\n",
        "               'min_sum_hessian_in_leaf': 10\n",
        "               }"
      ],
      "metadata": {
        "id": "m9XzwQX5TRPQ"
      },
      "execution_count": null,
      "outputs": []
    },
    {
      "cell_type": "code",
      "source": [
        "kfolds = 5\n",
        "kf = KFold(n_splits=kfolds)\n",
        "\n",
        "models = []\n",
        "maes = []\n",
        "oof = np.zeros(len(train_X))\n",
        "\n",
        "for train_index, val_index in kf.split(train_X):\n",
        "    X_train = train_X.iloc[train_index]\n",
        "    X_valid = train_X.iloc[val_index]\n",
        "    y_train = train_Y.iloc[train_index]\n",
        "    y_valid = train_Y.iloc[val_index]\n",
        "\n",
        "    lgb_train = lgb.Dataset(X_train, y_train)\n",
        "    lgb_eval = lgb.Dataset(X_valid, y_valid, reference=lgb.train)\n",
        "\n",
        "    model_lgb = lgb.train(lgbm_params,\n",
        "                          lgb_train,\n",
        "                          valid_sets=lgb_eval,\n",
        "                          early_stopping_rounds=20,\n",
        "                          verbose_eval=10)\n",
        "\n",
        "    y_pred = model_lgb.predict(X_valid, num_iteration=model_lgb.best_iteration)\n",
        "    tmp_mae = np.sqrt(mean_absolute_error(y_valid, y_pred))\n",
        "    print(tmp_mae)\n",
        "\n",
        "    models.append(model_lgb)\n",
        "    maes.append(tmp_mae)\n",
        "    oof[val_index] = y_pred"
      ],
      "metadata": {
        "colab": {
          "base_uri": "https://localhost:8080/"
        },
        "id": "O41ONj6VL6vF",
        "outputId": "f0d63708-5de8-4c64-f65d-0f9468ea2d84"
      },
      "execution_count": null,
      "outputs": [
        {
          "output_type": "stream",
          "name": "stdout",
          "text": [
            "[LightGBM] [Warning] Found whitespace in feature_names, replace with underlines\n",
            "[LightGBM] [Warning] Auto-choosing col-wise multi-threading, the overhead of testing was 0.006037 seconds.\n",
            "You can set `force_col_wise=true` to remove the overhead.\n",
            "[LightGBM] [Info] Total Bins 1083\n",
            "[LightGBM] [Info] Number of data points in the train set: 59225, number of used features: 10\n",
            "[LightGBM] [Warning] Found whitespace in feature_names, replace with underlines\n",
            "[LightGBM] [Info] Start training from score 9.968409\n",
            "Training until validation scores don't improve for 20 rounds\n",
            "[10]\tvalid_0's l2: 6.55144\n",
            "[20]\tvalid_0's l2: 5.13248\n",
            "[30]\tvalid_0's l2: 4.56018\n",
            "[40]\tvalid_0's l2: 4.33339\n",
            "[50]\tvalid_0's l2: 4.23666\n",
            "[60]\tvalid_0's l2: 4.18697\n",
            "[70]\tvalid_0's l2: 4.15734\n",
            "[80]\tvalid_0's l2: 4.14862\n",
            "[90]\tvalid_0's l2: 4.14582\n",
            "[100]\tvalid_0's l2: 4.14033\n",
            "[110]\tvalid_0's l2: 4.13998\n",
            "[120]\tvalid_0's l2: 4.14039\n",
            "Early stopping, best iteration is:\n",
            "[107]\tvalid_0's l2: 4.13852\n",
            "1.1788504497630188\n",
            "[LightGBM] [Warning] Found whitespace in feature_names, replace with underlines\n",
            "[LightGBM] [Warning] Auto-choosing col-wise multi-threading, the overhead of testing was 0.004764 seconds.\n",
            "You can set `force_col_wise=true` to remove the overhead.\n",
            "[LightGBM] [Info] Total Bins 1081\n",
            "[LightGBM] [Info] Number of data points in the train set: 59225, number of used features: 10\n",
            "[LightGBM] [Warning] Found whitespace in feature_names, replace with underlines\n",
            "[LightGBM] [Info] Start training from score 9.964491\n",
            "Training until validation scores don't improve for 20 rounds\n",
            "[10]\tvalid_0's l2: 6.73419\n",
            "[20]\tvalid_0's l2: 5.28587\n",
            "[30]\tvalid_0's l2: 4.68832\n",
            "[40]\tvalid_0's l2: 4.44162\n",
            "[50]\tvalid_0's l2: 4.33688\n",
            "[60]\tvalid_0's l2: 4.27407\n",
            "[70]\tvalid_0's l2: 4.24072\n",
            "[80]\tvalid_0's l2: 4.23145\n",
            "[90]\tvalid_0's l2: 4.22147\n",
            "[100]\tvalid_0's l2: 4.21071\n",
            "[110]\tvalid_0's l2: 4.20299\n",
            "[120]\tvalid_0's l2: 4.19983\n",
            "[130]\tvalid_0's l2: 4.1989\n",
            "[140]\tvalid_0's l2: 4.19963\n",
            "[150]\tvalid_0's l2: 4.2024\n",
            "Early stopping, best iteration is:\n",
            "[132]\tvalid_0's l2: 4.19826\n",
            "1.185742158982151\n",
            "[LightGBM] [Warning] Found whitespace in feature_names, replace with underlines\n",
            "[LightGBM] [Warning] Auto-choosing col-wise multi-threading, the overhead of testing was 0.004865 seconds.\n",
            "You can set `force_col_wise=true` to remove the overhead.\n",
            "[LightGBM] [Info] Total Bins 1081\n",
            "[LightGBM] [Info] Number of data points in the train set: 59226, number of used features: 10\n",
            "[LightGBM] [Warning] Found whitespace in feature_names, replace with underlines\n",
            "[LightGBM] [Info] Start training from score 9.968325\n",
            "Training until validation scores don't improve for 20 rounds\n",
            "[10]\tvalid_0's l2: 6.5537\n",
            "[20]\tvalid_0's l2: 5.12631\n",
            "[30]\tvalid_0's l2: 4.54732\n",
            "[40]\tvalid_0's l2: 4.31042\n",
            "[50]\tvalid_0's l2: 4.21061\n",
            "[60]\tvalid_0's l2: 4.1583\n",
            "[70]\tvalid_0's l2: 4.12915\n",
            "[80]\tvalid_0's l2: 4.11663\n",
            "[90]\tvalid_0's l2: 4.10771\n",
            "[100]\tvalid_0's l2: 4.1019\n",
            "[110]\tvalid_0's l2: 4.09751\n",
            "[120]\tvalid_0's l2: 4.09832\n",
            "[130]\tvalid_0's l2: 4.10023\n",
            "[140]\tvalid_0's l2: 4.10384\n",
            "Early stopping, best iteration is:\n",
            "[122]\tvalid_0's l2: 4.09704\n",
            "1.1794745383401606\n",
            "[LightGBM] [Warning] Found whitespace in feature_names, replace with underlines\n",
            "[LightGBM] [Warning] Auto-choosing col-wise multi-threading, the overhead of testing was 0.004922 seconds.\n",
            "You can set `force_col_wise=true` to remove the overhead.\n",
            "[LightGBM] [Info] Total Bins 1079\n",
            "[LightGBM] [Info] Number of data points in the train set: 59226, number of used features: 10\n",
            "[LightGBM] [Warning] Found whitespace in feature_names, replace with underlines\n",
            "[LightGBM] [Info] Start training from score 9.963833\n",
            "Training until validation scores don't improve for 20 rounds\n",
            "[10]\tvalid_0's l2: 6.73038\n",
            "[20]\tvalid_0's l2: 5.31332\n",
            "[30]\tvalid_0's l2: 4.73453\n",
            "[40]\tvalid_0's l2: 4.48881\n",
            "[50]\tvalid_0's l2: 4.38785\n",
            "[60]\tvalid_0's l2: 4.32997\n",
            "[70]\tvalid_0's l2: 4.30636\n",
            "[80]\tvalid_0's l2: 4.29938\n",
            "[90]\tvalid_0's l2: 4.29105\n",
            "[100]\tvalid_0's l2: 4.28671\n",
            "[110]\tvalid_0's l2: 4.28512\n",
            "[120]\tvalid_0's l2: 4.28036\n",
            "[130]\tvalid_0's l2: 4.27851\n",
            "[140]\tvalid_0's l2: 4.27853\n",
            "[150]\tvalid_0's l2: 4.27823\n",
            "Early stopping, best iteration is:\n",
            "[136]\tvalid_0's l2: 4.27702\n",
            "1.1902026031951616\n",
            "[LightGBM] [Warning] Found whitespace in feature_names, replace with underlines\n",
            "[LightGBM] [Warning] Auto-choosing col-wise multi-threading, the overhead of testing was 0.005281 seconds.\n",
            "You can set `force_col_wise=true` to remove the overhead.\n",
            "[LightGBM] [Info] Total Bins 1080\n",
            "[LightGBM] [Info] Number of data points in the train set: 59226, number of used features: 10\n",
            "[LightGBM] [Warning] Found whitespace in feature_names, replace with underlines\n",
            "[LightGBM] [Info] Start training from score 9.971161\n",
            "Training until validation scores don't improve for 20 rounds\n",
            "[10]\tvalid_0's l2: 6.55237\n",
            "[20]\tvalid_0's l2: 5.16811\n",
            "[30]\tvalid_0's l2: 4.61094\n",
            "[40]\tvalid_0's l2: 4.38516\n",
            "[50]\tvalid_0's l2: 4.29013\n",
            "[60]\tvalid_0's l2: 4.23844\n",
            "[70]\tvalid_0's l2: 4.21499\n",
            "[80]\tvalid_0's l2: 4.20272\n",
            "[90]\tvalid_0's l2: 4.19083\n",
            "[100]\tvalid_0's l2: 4.18875\n",
            "[110]\tvalid_0's l2: 4.18352\n",
            "[120]\tvalid_0's l2: 4.18646\n",
            "[130]\tvalid_0's l2: 4.188\n",
            "Early stopping, best iteration is:\n",
            "[111]\tvalid_0's l2: 4.18347\n",
            "1.186420886837973\n"
          ]
        }
      ]
    },
    {
      "cell_type": "markdown",
      "source": [
        "## 실제값과 예측값 비교\n",
        "- 실제값을 못따라가고 가운데 머물고 있네?\n",
        "- 어떻게 이걸 처리 한담..."
      ],
      "metadata": {
        "id": "5dKubPH6ajfY"
      }
    },
    {
      "cell_type": "code",
      "source": [
        "actual_pred_df = pd.DataFrame({\"actual\" : train_Y, \"pred\" : oof})"
      ],
      "metadata": {
        "id": "8CtulZGiVnCF"
      },
      "execution_count": null,
      "outputs": []
    },
    {
      "cell_type": "code",
      "source": [
        "actual_pred_df.plot(figsize=(12, 5))"
      ],
      "metadata": {
        "colab": {
          "base_uri": "https://localhost:8080/",
          "height": 402
        },
        "id": "JWK2NXP4Vq1H",
        "outputId": "8de020f4-9e15-4fa9-ca26-5a49092131d4"
      },
      "execution_count": null,
      "outputs": [
        {
          "output_type": "execute_result",
          "data": {
            "text/plain": [
              "<Axes: >"
            ]
          },
          "metadata": {},
          "execution_count": 258
        },
        {
          "output_type": "display_data",
          "data": {
            "text/plain": [
              "<Figure size 1200x500 with 1 Axes>"
            ],
            "image/png": "[encoded data removed]"
          },
          "metadata": {}
        }
      ]
    },
    {
      "cell_type": "code",
      "source": [
        "actual_pred_df.plot(figsize=(12, 5))"
      ],
      "metadata": {
        "colab": {
          "base_uri": "https://localhost:8080/",
          "height": 402
        },
        "id": "P5zzyJLZMpas",
        "outputId": "9a7d6f23-cde7-4994-fb1e-398115afc862"
      },
      "execution_count": null,
      "outputs": [
        {
          "output_type": "execute_result",
          "data": {
            "text/plain": [
              "<Axes: >"
            ]
          },
          "metadata": {},
          "execution_count": 119
        },
        {
          "output_type": "display_data",
          "data": {
            "text/plain": [
              "<Figure size 1200x500 with 1 Axes>"
            ],
            "image/png": "[encoded data removed]"
          },
          "metadata": {}
        }
      ]
    },
    {
      "cell_type": "markdown",
      "source": [
        "## 테스트 데이터 예측 및 제출\n",
        "- Score: 1.40559 -> 1.38033\n",
        "- 반올림해서 정수로 바꾸니까 점수 더 올라감"
      ],
      "metadata": {
        "id": "K3hqQqq_WuBb"
      }
    },
    {
      "cell_type": "code",
      "source": [
        "test_X = test_df_le.drop(['id', 'Age'], axis=1)\n",
        "preds = []\n",
        "for model in models:\n",
        "    pred = model.predict(test_X)\n",
        "    preds.append(pred)"
      ],
      "metadata": {
        "id": "B59-J3FAWnfE"
      },
      "execution_count": null,
      "outputs": []
    },
    {
      "cell_type": "code",
      "source": [
        "preds_array = np.array(preds)\n",
        "preds_mean = np.mean(preds_array, axis=0)\n",
        "#preds_mean = np.exp(preds_mean)"
      ],
      "metadata": {
        "id": "VKU7bSlPYEQp"
      },
      "execution_count": null,
      "outputs": []
    },
    {
      "cell_type": "code",
      "source": [
        "submission['Age'] = np.around(preds_mean).astype('int64')"
      ],
      "metadata": {
        "id": "ntXOxE-IYKnb"
      },
      "execution_count": null,
      "outputs": []
    },
    {
      "cell_type": "code",
      "source": [
        "submission.to_csv('./drive/MyDrive/crab_age_submit09.csv', index=False)"
      ],
      "metadata": {
        "id": "omC6Clq_YxX6"
      },
      "execution_count": null,
      "outputs": []
    }
  ]
}